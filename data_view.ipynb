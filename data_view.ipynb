{
 "cells": [
  {
   "cell_type": "code",
   "execution_count": 163,
   "id": "844fb91a-d634-46af-9737-1b94a533ae3d",
   "metadata": {},
   "outputs": [
    {
     "name": "stdout",
     "output_type": "stream",
     "text": [
      "The autoreload extension is already loaded. To reload it, use:\n",
      "  %reload_ext autoreload\n"
     ]
    }
   ],
   "source": [
    "%load_ext autoreload\n",
    "%autoreload 2\n",
    "\n",
    "%run salads_dataset_creation.py\n",
    "%run dataset_analyzer.py\n",
    "%run dataset_utils.py\n",
    "%run dataset_visulizer.py\n"
   ]
  },
  {
   "cell_type": "markdown",
   "id": "1b08e485",
   "metadata": {},
   "source": [
    "### To have the oldest version of your classes run this cell"
   ]
  },
  {
   "cell_type": "code",
   "execution_count": 164,
   "id": "75ee9d5a-cfc6-44e9-89b7-ab983516074b",
   "metadata": {},
   "outputs": [],
   "source": [
    "%reload_ext autoreload"
   ]
  },
  {
   "cell_type": "markdown",
   "id": "953b3691",
   "metadata": {},
   "source": [
    "### To have the oldest version of your classes run this cell"
   ]
  },
  {
   "cell_type": "code",
   "execution_count": 3,
   "id": "232eeb0e-861a-464f-a358-f6b785f30bde",
   "metadata": {},
   "outputs": [],
   "source": [
    "import pandas as pd\n",
    "\n",
    "pd.set_option('display.max_rows', None)  # Show all rows\n",
    "pd.set_option('display.max_columns', None) \n",
    "\n",
    "DATA_PATH_HEDI = \"C:/Users/hboua/GitRepository\"\n",
    "DATA_PATH_YAS = \"C:/Users/yassi/Desktop/Projet/CookBotProject/CookBotRecipes/Data\"\n",
    "column_list = ['name', 'tags', 'description', 'ingredients']\n",
    "\n",
    "\n",
    "df = create_salad_df_from_initial_df(DATA_PATH_YAS,column_list)"
   ]
  },
  {
   "cell_type": "markdown",
   "id": "6bc79190",
   "metadata": {},
   "source": [
    "### See all the words in the ingredients of the Dataset"
   ]
  },
  {
   "cell_type": "code",
   "execution_count": 4,
   "id": "6e856e04-7185-4cda-a858-d59cfeca784d",
   "metadata": {},
   "outputs": [],
   "source": [
    "all_words = get_all_words_in_ingredients_df(df)\n",
    "\n",
    "count_dict = elem_counter_list(all_words)\n",
    "\n",
    "count_df = pd.DataFrame(list(count_dict.items()), columns=['key', 'value'])"
   ]
  },
  {
   "cell_type": "markdown",
   "id": "d0457252",
   "metadata": {},
   "source": [
    "### See all the ingredients with a specific keyword \n",
    "Example: pepper"
   ]
  },
  {
   "cell_type": "code",
   "execution_count": 5,
   "id": "0d4f1c2c-c866-4294-90c2-816b1527d776",
   "metadata": {},
   "outputs": [],
   "source": [
    "ingredients_with_keywords = get_all_diff_ingredients_with_keyword_df('pepper',df)\n",
    "\n",
    "elem_and_count_dict = elem_counter_list(ingredients_with_keywords)\n",
    "\n",
    "elem_and_count_df = pd.DataFrame(list(elem_and_count_dict.items()), columns=['key', 'value'])"
   ]
  },
  {
   "cell_type": "markdown",
   "id": "a6972eaa",
   "metadata": {},
   "source": [
    "### Filter the dataset and see it"
   ]
  },
  {
   "cell_type": "markdown",
   "id": "5db07b64",
   "metadata": {},
   "source": [
    "#### Remove all the descriptive keywords"
   ]
  },
  {
   "cell_type": "code",
   "execution_count": 6,
   "id": "5868530b-7b71-42f7-b8ee-2931c654c402",
   "metadata": {},
   "outputs": [],
   "source": [
    "keywords_to_remove = ['fresh', 'crushed', 'ground','cracked','sweet','hot', 'freshly', 'course' ,'roasted', 'coarse','red','kosher','dry']\n",
    "\n",
    "df_1 = remove_keywords_from_ingredients_df(keywords_to_remove, df)\n",
    "\n",
    "ingredients_with_keywords = get_all_diff_ingredients_with_keyword_df('pepper',df_1)\n",
    "\n",
    "elem_and_count_dict = elem_counter_list(ingredients_with_keywords)\n",
    "\n",
    "elem_and_count_df = pd.DataFrame(list(elem_and_count_dict.items()), columns=['key', 'value'])\n"
   ]
  },
  {
   "cell_type": "markdown",
   "id": "f3c43c17",
   "metadata": {},
   "source": [
    "#### See again all the words that compose all the ingredients "
   ]
  },
  {
   "cell_type": "code",
   "execution_count": 7,
   "id": "9a85c45c",
   "metadata": {},
   "outputs": [],
   "source": [
    "all_words = get_all_words_in_ingredients_df(df_1)\n",
    "\n",
    "count_dict = elem_counter_list(all_words)\n",
    "\n",
    "count_df = pd.DataFrame(list(count_dict.items()), columns=['key', 'value'])"
   ]
  },
  {
   "cell_type": "markdown",
   "id": "f6f3e763",
   "metadata": {},
   "source": [
    "#### Change specific ingredients with new equivalent \n",
    "The old ingredients are the key of the dict and the new are the values"
   ]
  },
  {
   "cell_type": "code",
   "execution_count": 8,
   "id": "d7fecd0f-ce5c-453c-9aa0-72da8e74737d",
   "metadata": {},
   "outputs": [],
   "source": [
    "\n",
    "replace_ingredients = {\n",
    "    'salt and pepper':['black pepper', 'salt'],\n",
    "    'salt and black pepper':['black pepper', 'salt'],\n",
    "    'pepper': 'black pepper',\n",
    "    'salt & freshly ground black pepper': ['black pepper', 'salt'],\n",
    "    'lime':'lemon',\n",
    "    'kosher salt':'salt',\n",
    "    'green pepper':'bell pepper',\n",
    "    'red pepper':'bell pepper',\n",
    "    'white pepper':'pepper',\n",
    "    'red bell peppers':'bell pepper',\n",
    "    'red pepper':'bell pepper',\n",
    "    'yellow pepper': 'bell pepper',\n",
    "    'red peppers': 'bell pepper',\n",
    "    'red bell pepper':'bell pepper',\n",
    "    'salt & black pepper':['black pepper', 'salt'],\n",
    "    'salt & pepper' : ['black pepper', 'salt'],\n",
    "    'green bell pepper':'bell pepper',\n",
    "    'yellow bell pepper':'bell pepper',\n",
    "    'cayenne pepper':'bell pepper',\n",
    "    'jalapeno pepper':'bell pepper',\n",
    "    'green peppers':'bell pepper',\n",
    "    'bell peppers':'bell pepper',\n",
    "    'green bell peppers':'bell pepper',\n",
    "    'lemon pepper':['lemon','black pepper'],\n",
    "    'orange bell pepper': 'bell pepper',\n",
    "    'jalapeno peppers':'chili pepper',\n",
    "    'yellow peppers': 'bell pepper',\n",
    "    'seasoned pepper':'black pepper',\n",
    "    'lemon pepper seasoning':['lemon','black pepper']\n",
    "    \n",
    "}\n",
    "df_2 = replace_old_ingredients_with_new_df(replace_ingredients, df_1)\n",
    "\n",
    "ingredients_with_keywords = get_all_diff_ingredients_with_keyword_df('pepper',df_2)\n",
    "\n",
    "elem_and_count_dict = elem_counter_list(ingredients_with_keywords)\n",
    "\n",
    "elem_and_count_df = pd.DataFrame(list(elem_and_count_dict.items()), columns=['key', 'value'])"
   ]
  },
  {
   "cell_type": "markdown",
   "id": "6f78bcf6",
   "metadata": {},
   "source": [
    "#### After a filtering for the ingredients containing pepper "
   ]
  },
  {
   "cell_type": "markdown",
   "id": "d932929c",
   "metadata": {},
   "source": [
    "I decided to only take the top five.\n",
    "Then I will check for the ingredients that I will remove from all the ingredients containing a pepper keyword."
   ]
  },
  {
   "cell_type": "markdown",
   "id": "27207520",
   "metadata": {},
   "source": [
    "#### Get the list of all the ingredients that we don't need anymore"
   ]
  },
  {
   "cell_type": "code",
   "execution_count": 9,
   "id": "ccbb5dd9",
   "metadata": {},
   "outputs": [],
   "source": [
    "pepper_ingredient_to_use = [ 'black pepper','bell pepper', 'pepper flakes', 'pepper sauce','chili pepper', 'pepperoni' ]\n",
    "\n",
    "pepper_ingredients_to_ignore = remove_elem_from_list(pepper_ingredient_to_use, elem_and_count_dict.keys())"
   ]
  },
  {
   "cell_type": "markdown",
   "id": "088ecb6a",
   "metadata": {},
   "source": [
    "#### Get a new df version with only recipes (rows) that does't contain the ingredient removed"
   ]
  },
  {
   "cell_type": "code",
   "execution_count": 10,
   "id": "26dd67f0-1096-4bac-917e-bc1db8b90e6c",
   "metadata": {},
   "outputs": [],
   "source": [
    "df_3 = get_df_filtered_without_list_ingredients(pepper_ingredients_to_ignore, df_2)\n",
    "\n",
    "ingredients_with_keywords = get_all_diff_ingredients_with_keyword_df('pepper',df_3)\n",
    "\n",
    "elem_and_count_dict = elem_counter_list(ingredients_with_keywords)\n",
    "\n",
    "elem_and_count_df = pd.DataFrame(list(elem_and_count_dict.items()), columns=['key', 'value'])"
   ]
  },
  {
   "cell_type": "markdown",
   "id": "7df9409c",
   "metadata": {},
   "source": [
    "### It works, Now lets do it to the other ingredients"
   ]
  },
  {
   "cell_type": "markdown",
   "id": "4d3f7be0",
   "metadata": {},
   "source": [
    "Now we continue using the df that I just generated and filter next ingredients."
   ]
  },
  {
   "cell_type": "markdown",
   "id": "cd8ac071",
   "metadata": {},
   "source": [
    "### Second ingredient (Oil)"
   ]
  },
  {
   "cell_type": "markdown",
   "id": "ab5f5fa5",
   "metadata": {},
   "source": [
    "Let's check the most used words"
   ]
  },
  {
   "cell_type": "code",
   "execution_count": 11,
   "id": "0b3c011a",
   "metadata": {},
   "outputs": [],
   "source": [
    "all_words = get_all_words_in_ingredients_df(df_3)\n",
    "\n",
    "count_dict = elem_counter_list(all_words)\n",
    "\n",
    "count_df = pd.DataFrame(list(count_dict.items()), columns=['key', 'value'])"
   ]
  },
  {
   "cell_type": "markdown",
   "id": "0af7ff3a",
   "metadata": {},
   "source": [
    "#### See all the ingredients with a keyword (oil)"
   ]
  },
  {
   "cell_type": "code",
   "execution_count": 12,
   "id": "596be1ae",
   "metadata": {},
   "outputs": [],
   "source": [
    "ingredients_with_keywords = get_all_diff_ingredients_with_keyword_df('oil',df_3)\n",
    "\n",
    "elem_and_count_dict = elem_counter_list(ingredients_with_keywords)\n",
    "\n",
    "elem_and_count_df = pd.DataFrame(list(elem_and_count_dict.items()), columns=['key', 'value'])"
   ]
  },
  {
   "cell_type": "markdown",
   "id": "dbb0a510",
   "metadata": {},
   "source": [
    "#### Start removing the less used oil ingredients "
   ]
  },
  {
   "cell_type": "code",
   "execution_count": 13,
   "id": "bdac8d0e",
   "metadata": {},
   "outputs": [],
   "source": [
    "less_used_ingredients = get_elem_from_df_from_start_index(45, elem_and_count_df)\n",
    "\n",
    "df_4 = get_df_filtered_without_list_ingredients(less_used_ingredients, df_3)\n",
    "\n",
    "ingredients_with_keywords = get_all_diff_ingredients_with_keyword_df('oil',df_4)\n",
    "\n",
    "elem_and_count_dict = elem_counter_list(ingredients_with_keywords)\n",
    "\n",
    "elem_and_count_df = pd.DataFrame(list(elem_and_count_dict.items()), columns=['key', 'value'])"
   ]
  },
  {
   "cell_type": "markdown",
   "id": "317a48b7",
   "metadata": {},
   "source": [
    "#### Start removing some adjectives"
   ]
  },
  {
   "cell_type": "code",
   "execution_count": 14,
   "id": "e92345e8",
   "metadata": {},
   "outputs": [],
   "source": [
    "adjectives_remove = ['toasted', 'dark', 'oriental']\n",
    "\n",
    "df_5 = remove_keywords_from_ingredients_df(adjectives_remove, df_4)\n",
    "\n",
    "ingredients_with_keywords = get_all_diff_ingredients_with_keyword_df('oil',df_5)\n",
    "\n",
    "elem_and_count_dict = elem_counter_list(ingredients_with_keywords)\n",
    "\n",
    "elem_and_count_df = pd.DataFrame(list(elem_and_count_dict.items()), columns=['key', 'value'])"
   ]
  },
  {
   "cell_type": "markdown",
   "id": "d3371180",
   "metadata": {},
   "source": [
    "#### Start filtering by keywords"
   ]
  },
  {
   "cell_type": "markdown",
   "id": "41532394",
   "metadata": {},
   "source": [
    "This Time i willl filter with the keyword oil and add some exceptions like sesame oil"
   ]
  },
  {
   "cell_type": "code",
   "execution_count": 15,
   "id": "ece3e2d0",
   "metadata": {},
   "outputs": [],
   "source": [
    "exceptions = ['sesame oil','sun-dried tomato packed in oil','sun-dried tomatoes packed in oil','tuna in olive oil', 'sesame seed oil','tuna in vegetable oil','tuna packed in oil','oil-cured black olive','anchovies packed in oil','oil-cured olives','oil-and-vinegar dressing','olive oil and vinegar dressing']\n",
    "keywords = ['oil']\n",
    "df_6 = replace_df_ingredients_with_keywords(keywords, exceptions, df_5)\n",
    "\n",
    "ingredients_with_keywords = get_all_diff_ingredients_with_keyword_df('oil',df_6)\n",
    "\n",
    "elem_and_count_dict = elem_counter_list(ingredients_with_keywords)\n",
    "\n",
    "elem_and_count_df = pd.DataFrame(list(elem_and_count_dict.items()), columns=['key', 'value'])"
   ]
  },
  {
   "cell_type": "markdown",
   "id": "239d159a",
   "metadata": {},
   "source": [
    "#### Now time to replace some specific ingredients"
   ]
  },
  {
   "cell_type": "code",
   "execution_count": 16,
   "id": "0f1de094",
   "metadata": {},
   "outputs": [],
   "source": [
    "replacement_dict = {\n",
    "    'sesame seed oil':'sesame oil',\n",
    "    'tuna in vegetable oil':'tuna',\n",
    "    'tuna in olive oil':'tuna',\n",
    "    'sun-dried tomato packed in oil':'dried tomato',\n",
    "    'sun-dried tomatoes packed in oil':'dried tomato',\n",
    "    'oil-cured black olive':'olive',\n",
    "    'tuna packed in oil':'tuna',\n",
    "    'anchovies packed in oil':'anchovies',\n",
    "    'oil-and-vinegar dressing':['oil','vinegar'],\n",
    "    'oil-cured olives':'olive',\n",
    "    'olive oil and vinegar dressing':['oil','vinegar']\n",
    "}\n",
    "\n",
    "df_7 = replace_old_ingredients_with_new_df(replacement_dict, df_6)\n",
    "\n",
    "ingredients_with_keywords = get_all_diff_ingredients_with_keyword_df('oil',df_7)\n",
    "\n",
    "elem_and_count_dict = elem_counter_list(ingredients_with_keywords)\n",
    "\n",
    "elem_and_count_df = pd.DataFrame(list(elem_and_count_dict.items()), columns=['key', 'value'])"
   ]
  },
  {
   "cell_type": "markdown",
   "id": "6f680859",
   "metadata": {},
   "source": [
    "### Next Ingredient"
   ]
  },
  {
   "cell_type": "markdown",
   "id": "deda40c2",
   "metadata": {},
   "source": [
    "It will be vinegar"
   ]
  },
  {
   "cell_type": "code",
   "execution_count": 17,
   "id": "851b0129",
   "metadata": {},
   "outputs": [],
   "source": [
    "ingredients_with_keywords = get_all_diff_ingredients_with_keyword_df('vinegar',df_7)\n",
    "\n",
    "elem_and_count_dict = elem_counter_list(ingredients_with_keywords)\n",
    "\n",
    "elem_and_count_df = pd.DataFrame(list(elem_and_count_dict.items()), columns=['key', 'value'])"
   ]
  },
  {
   "cell_type": "markdown",
   "id": "500abead",
   "metadata": {},
   "source": [
    "#### Replace ingredients with the keyword vinegar"
   ]
  },
  {
   "cell_type": "code",
   "execution_count": 18,
   "id": "dfbc4df0-7b72-4c6b-b3c9-f30c819a0048",
   "metadata": {},
   "outputs": [],
   "source": [
    "keywords = ['vinegar']\n",
    "exceptions = []\n",
    "df_7 = replace_df_ingredients_with_keywords(keywords, exceptions, df_6)\n",
    "\n",
    "ingredients_with_keywords = get_all_diff_ingredients_with_keyword_df('vinegar',df_7)\n",
    "\n",
    "elem_and_count_dict = elem_counter_list(ingredients_with_keywords)\n",
    "\n",
    "elem_and_count_df = pd.DataFrame(list(elem_and_count_dict.items()), columns=['key', 'value'])\n"
   ]
  },
  {
   "cell_type": "markdown",
   "id": "2c1c78d3",
   "metadata": {},
   "source": [
    "### Let's do an other ingredient"
   ]
  },
  {
   "cell_type": "markdown",
   "id": "9d1ce912",
   "metadata": {},
   "source": [
    "Olive"
   ]
  },
  {
   "cell_type": "code",
   "execution_count": 19,
   "id": "467878b5-0bc7-457e-bac7-a54d41f3f948",
   "metadata": {},
   "outputs": [],
   "source": [
    "ingredients_with_keywords = get_all_diff_ingredients_with_keyword_df('olive',df_7)\n",
    "\n",
    "elem_and_count_dict = elem_counter_list(ingredients_with_keywords)\n",
    "\n",
    "elem_and_count_df = pd.DataFrame(list(elem_and_count_dict.items()), columns=['key', 'value'])"
   ]
  },
  {
   "cell_type": "markdown",
   "id": "5d88195e",
   "metadata": {},
   "source": [
    "#### Let's filter now "
   ]
  },
  {
   "cell_type": "code",
   "execution_count": 20,
   "id": "474d1685-7749-4ec6-a520-6ebd7b1480db",
   "metadata": {},
   "outputs": [],
   "source": [
    "keywords = ['olive','olives']\n",
    "exceptions = ['green olive tapenade']\n",
    "df_8 = replace_df_ingredients_with_keywords(keywords, exceptions, df_7)\n",
    "\n",
    "ingredients_with_keywords = get_all_diff_ingredients_with_keyword_df('olive',df_8)\n",
    "\n",
    "elem_and_count_dict = elem_counter_list(ingredients_with_keywords)\n",
    "\n",
    "elem_and_count_df = pd.DataFrame(list(elem_and_count_dict.items()), columns=['key', 'value'])"
   ]
  },
  {
   "cell_type": "markdown",
   "id": "75845821",
   "metadata": {},
   "source": [
    "#### Let's update some ingredients"
   ]
  },
  {
   "cell_type": "code",
   "execution_count": 21,
   "id": "d336ddcc-b9c8-4d0f-8151-aa7136052e8a",
   "metadata": {},
   "outputs": [],
   "source": [
    "replacement_dict = {\n",
    "    'olives':'olive',\n",
    "    'green olive tapenade':'olive tapenade'\n",
    "}\n",
    "\n",
    "df_9 = replace_old_ingredients_with_new_df(replacement_dict, df_8)\n",
    "\n",
    "ingredients_with_keywords = get_all_diff_ingredients_with_keyword_df('olive',df_9)\n",
    "\n",
    "elem_and_count_dict = elem_counter_list(ingredients_with_keywords)\n",
    "\n",
    "elem_and_count_df = pd.DataFrame(list(elem_and_count_dict.items()), columns=['key', 'value'])"
   ]
  },
  {
   "cell_type": "markdown",
   "id": "9a69c2d7",
   "metadata": {},
   "source": [
    "### Next ingredient (Onion)"
   ]
  },
  {
   "cell_type": "code",
   "execution_count": 22,
   "id": "e45fd7c0-f625-4b49-a165-d94824063128",
   "metadata": {},
   "outputs": [],
   "source": [
    "ingredients_with_keywords = get_all_diff_ingredients_with_keyword_df('onion',df_9)\n",
    "\n",
    "elem_and_count_dict = elem_counter_list(ingredients_with_keywords)\n",
    "\n",
    "elem_and_count_df = pd.DataFrame(list(elem_and_count_dict.items()), columns=['key', 'value'])"
   ]
  },
  {
   "cell_type": "markdown",
   "id": "ab7ba728",
   "metadata": {},
   "source": [
    "#### Remove less used ingredients "
   ]
  },
  {
   "cell_type": "code",
   "execution_count": 23,
   "id": "e186be9f",
   "metadata": {},
   "outputs": [],
   "source": [
    "less_used_ingredients = get_elem_from_df_from_start_index(36, elem_and_count_df)\n",
    "\n",
    "df_10 = get_df_filtered_without_list_ingredients(less_used_ingredients, df_9)\n",
    "\n",
    "ingredients_with_keywords = get_all_diff_ingredients_with_keyword_df('onion',df_10)\n",
    "\n",
    "elem_and_count_dict = elem_counter_list(ingredients_with_keywords)\n",
    "\n",
    "elem_and_count_df = pd.DataFrame(list(elem_and_count_dict.items()), columns=['key', 'value'])"
   ]
  },
  {
   "cell_type": "markdown",
   "id": "b926a12f",
   "metadata": {},
   "source": [
    "#### Replace with keywords "
   ]
  },
  {
   "cell_type": "code",
   "execution_count": 24,
   "id": "36db97a4",
   "metadata": {},
   "outputs": [],
   "source": [
    "keywords = ['onion', 'onions']\n",
    "exceptions = ['onion powder','onion salt','simply potatoes diced potatoes with onion']\n",
    "\n",
    "df_11 = replace_df_ingredients_with_keywords(keywords, exceptions, df_10)\n",
    "\n",
    "ingredients_with_keywords = get_all_diff_ingredients_with_keyword_df('onion',df_11)\n",
    "\n",
    "elem_and_count_dict = elem_counter_list(ingredients_with_keywords)\n",
    "\n",
    "elem_and_count_df = pd.DataFrame(list(elem_and_count_dict.items()), columns=['key', 'value'])"
   ]
  },
  {
   "cell_type": "code",
   "execution_count": 25,
   "id": "c35ead37",
   "metadata": {},
   "outputs": [],
   "source": [
    "replacement_dict = {\n",
    "    'onions':'onion',\n",
    "    'dried onion flakes':'onion powder',\n",
    "    'onion salt':'salt',\n",
    "    'simply potatoes diced potatoes with onion':['potato','onion']\n",
    "}\n",
    "\n",
    "\n",
    "df_12 = replace_old_ingredients_with_new_df(replacement_dict, df_11)\n",
    "\n",
    "ingredients_with_keywords = get_all_diff_ingredients_with_keyword_df('onion',df_12)\n",
    "\n",
    "elem_and_count_dict = elem_counter_list(ingredients_with_keywords)\n",
    "\n",
    "elem_and_count_df = pd.DataFrame(list(elem_and_count_dict.items()), columns=['key', 'value'])"
   ]
  },
  {
   "cell_type": "markdown",
   "id": "30b7f4b4",
   "metadata": {},
   "source": [
    "### Next ingredient"
   ]
  },
  {
   "cell_type": "markdown",
   "id": "5f6e44b6",
   "metadata": {},
   "source": [
    "Lets see all the words left"
   ]
  },
  {
   "cell_type": "code",
   "execution_count": 26,
   "id": "d19e0879",
   "metadata": {},
   "outputs": [],
   "source": [
    "all_words = get_all_words_in_ingredients_df(df_12)\n",
    "\n",
    "count_dict = elem_counter_list(all_words)\n",
    "\n",
    "count_df = pd.DataFrame(list(count_dict.items()), columns=['key', 'value'])"
   ]
  },
  {
   "cell_type": "markdown",
   "id": "d3ee5560",
   "metadata": {},
   "source": [
    "#### Keyword garlic"
   ]
  },
  {
   "cell_type": "code",
   "execution_count": 27,
   "id": "f8c662ab-d180-4c29-80d0-283797e538ea",
   "metadata": {},
   "outputs": [],
   "source": [
    "ingredients_with_keywords = get_all_diff_ingredients_with_keyword_df('garlic',df_12)\n",
    "\n",
    "elem_and_count_dict = elem_counter_list(ingredients_with_keywords)\n",
    "\n",
    "elem_and_count_df = pd.DataFrame(list(elem_and_count_dict.items()), columns=['key', 'value'])"
   ]
  },
  {
   "cell_type": "code",
   "execution_count": 28,
   "id": "5a341511",
   "metadata": {},
   "outputs": [],
   "source": [
    "less_used_ingredients = get_elem_from_df_from_start_index(8, elem_and_count_df)\n",
    "\n",
    "df_13 = get_df_filtered_without_list_ingredients(less_used_ingredients, df_12)\n",
    "\n",
    "ingredients_with_keywords = get_all_diff_ingredients_with_keyword_df('garlic',df_13)\n",
    "\n",
    "elem_and_count_dict = elem_counter_list(ingredients_with_keywords)\n",
    "\n",
    "elem_and_count_df = pd.DataFrame(list(elem_and_count_dict.items()), columns=['key', 'value'])"
   ]
  },
  {
   "cell_type": "code",
   "execution_count": 29,
   "id": "c3efc0e1",
   "metadata": {},
   "outputs": [],
   "source": [
    "keywords = ['garlic']\n",
    "exceptions = ['garlic salt','garlic-flavored croutons']\n",
    "\n",
    "df_14 = replace_df_ingredients_with_keywords(keywords, exceptions, df_13)\n",
    "\n",
    "ingredients_with_keywords = get_all_diff_ingredients_with_keyword_df('garlic',df_14)\n",
    "\n",
    "elem_and_count_dict = elem_counter_list(ingredients_with_keywords)\n",
    "\n",
    "elem_and_count_df = pd.DataFrame(list(elem_and_count_dict.items()), columns=['key', 'value'])"
   ]
  },
  {
   "cell_type": "code",
   "execution_count": 30,
   "id": "75b65929",
   "metadata": {},
   "outputs": [],
   "source": [
    "replacement_dict = {\n",
    "    'garlic salt':['garlic','salt']\n",
    "}\n",
    "\n",
    "\n",
    "df_15 = replace_old_ingredients_with_new_df(replacement_dict, df_14)\n",
    "\n",
    "ingredients_with_keywords = get_all_diff_ingredients_with_keyword_df('garlic',df_15)\n",
    "\n",
    "elem_and_count_dict = elem_counter_list(ingredients_with_keywords)\n",
    "\n",
    "elem_and_count_df = pd.DataFrame(list(elem_and_count_dict.items()), columns=['key', 'value'])"
   ]
  },
  {
   "cell_type": "markdown",
   "id": "fa074ce2",
   "metadata": {},
   "source": [
    "### Next Ingredient "
   ]
  },
  {
   "cell_type": "markdown",
   "id": "0237ac96",
   "metadata": {},
   "source": [
    "Sugar"
   ]
  },
  {
   "cell_type": "code",
   "execution_count": 31,
   "id": "5948cb66-98dd-49a1-aec8-bbc65d5f433b",
   "metadata": {},
   "outputs": [],
   "source": [
    "all_words = get_all_words_in_ingredients_df(df_15)\n",
    "\n",
    "count_dict = elem_counter_list(all_words)\n",
    "\n",
    "count_df = pd.DataFrame(list(count_dict.items()), columns=['key', 'value'])\n"
   ]
  },
  {
   "cell_type": "code",
   "execution_count": 32,
   "id": "4e68a6f4",
   "metadata": {},
   "outputs": [],
   "source": [
    "ingredients_with_keywords = get_all_diff_ingredients_with_keyword_df('sugar',df_15)\n",
    "\n",
    "elem_and_count_dict = elem_counter_list(ingredients_with_keywords)\n",
    "\n",
    "elem_and_count_df = pd.DataFrame(list(elem_and_count_dict.items()), columns=['key', 'value'])"
   ]
  },
  {
   "cell_type": "code",
   "execution_count": 33,
   "id": "40aa2321",
   "metadata": {},
   "outputs": [],
   "source": [
    "less_used_ingredients = get_elem_from_df_from_start_index(42, elem_and_count_df)\n",
    "\n",
    "df_16 = get_df_filtered_without_list_ingredients(less_used_ingredients, df_15)\n",
    "\n",
    "ingredients_with_keywords = get_all_diff_ingredients_with_keyword_df('sugar',df_16)\n",
    "\n",
    "elem_and_count_dict = elem_counter_list(ingredients_with_keywords)\n",
    "\n",
    "elem_and_count_df = pd.DataFrame(list(elem_and_count_dict.items()), columns=['key', 'value'])"
   ]
  },
  {
   "cell_type": "code",
   "execution_count": 34,
   "id": "50969fe1",
   "metadata": {},
   "outputs": [],
   "source": [
    "adjectives_to_remove = ['sugar-free','no-sugar-added','no-sugar-added','fat-free','non-fat']\n",
    "\n",
    "df_17 = remove_keywords_from_ingredients_df(adjectives_remove, df_16)\n",
    "\n",
    "ingredients_with_keywords = get_all_diff_ingredients_with_keyword_df('sugar',df_17)\n",
    "\n",
    "elem_and_count_dict = elem_counter_list(ingredients_with_keywords)\n",
    "\n",
    "elem_and_count_df = pd.DataFrame(list(elem_and_count_dict.items()), columns=['key', 'value'])"
   ]
  },
  {
   "cell_type": "code",
   "execution_count": 35,
   "id": "7c16c223",
   "metadata": {},
   "outputs": [],
   "source": [
    "keywords = ['sugar']\n",
    "exceptions = ['sugar snap pea','sugar snap peas','frozen sugar snap peas','sugar free pistachio pudding mix']\n",
    "\n",
    "\n",
    "df_18 = replace_df_ingredients_with_keywords(keywords, exceptions, df_17)\n",
    "\n",
    "ingredients_with_keywords = get_all_diff_ingredients_with_keyword_df('sugar',df_18)\n",
    "\n",
    "elem_and_count_dict = elem_counter_list(ingredients_with_keywords)\n",
    "\n",
    "elem_and_count_df = pd.DataFrame(list(elem_and_count_dict.items()), columns=['key', 'value'])\n"
   ]
  },
  {
   "cell_type": "code",
   "execution_count": 36,
   "id": "b6fd4239",
   "metadata": {},
   "outputs": [],
   "source": [
    "replacement_dict = {\n",
    "    'sugar snap peas':'sugar snap pea',\n",
    "    'frozen sugar snap peas':'sugar snap pea',\n",
    "    'sugar free pistachio pudding mix':'pistachio pudding mix',\n",
    "    'sugar-and-spice nuts':'nuts'\n",
    "}\n",
    "\n",
    "\n",
    "df_19 = replace_old_ingredients_with_new_df(replacement_dict, df_18)\n",
    "\n",
    "ingredients_with_keywords = get_all_diff_ingredients_with_keyword_df('sugar',df_19)\n",
    "\n",
    "elem_and_count_dict = elem_counter_list(ingredients_with_keywords)\n",
    "\n",
    "elem_and_count_df = pd.DataFrame(list(elem_and_count_dict.items()), columns=['key', 'value'])\n"
   ]
  },
  {
   "cell_type": "markdown",
   "id": "ce0c0cef",
   "metadata": {},
   "source": [
    "### Next ingredient"
   ]
  },
  {
   "cell_type": "markdown",
   "id": "ee7177fd",
   "metadata": {},
   "source": [
    "Lemon"
   ]
  },
  {
   "cell_type": "code",
   "execution_count": 37,
   "id": "d25a33b8-6a41-4ed8-87ab-5cd79dc3dd02",
   "metadata": {},
   "outputs": [],
   "source": [
    "all_words = get_all_words_in_ingredients_df(df_15)\n",
    "\n",
    "count_dict = elem_counter_list(all_words)\n",
    "\n",
    "count_df = pd.DataFrame(list(count_dict.items()), columns=['key', 'value'])"
   ]
  },
  {
   "cell_type": "code",
   "execution_count": 38,
   "id": "1f2de9d3",
   "metadata": {},
   "outputs": [],
   "source": [
    "ingredients_with_keywords = get_all_diff_ingredients_with_keyword_df('lemon',df_19)\n",
    "\n",
    "elem_and_count_dict = elem_counter_list(ingredients_with_keywords)\n",
    "\n",
    "elem_and_count_df = pd.DataFrame(list(elem_and_count_dict.items()), columns=['key', 'value'])"
   ]
  },
  {
   "cell_type": "code",
   "execution_count": 39,
   "id": "ed26de8e",
   "metadata": {},
   "outputs": [],
   "source": [
    "less_used_ingredients = get_elem_from_df_from_start_index(18, elem_and_count_df)\n",
    "\n",
    "df_20 = get_df_filtered_without_list_ingredients(less_used_ingredients, df_19)\n",
    "\n",
    "ingredients_with_keywords = get_all_diff_ingredients_with_keyword_df('lemon',df_20)\n",
    "\n",
    "elem_and_count_dict = elem_counter_list(ingredients_with_keywords)\n",
    "\n",
    "elem_and_count_df = pd.DataFrame(list(elem_and_count_dict.items()), columns=['key', 'value'])\n"
   ]
  },
  {
   "cell_type": "code",
   "execution_count": 40,
   "id": "53599689-281d-4de7-95c4-b59f0c73a6c9",
   "metadata": {},
   "outputs": [],
   "source": [
    "keywords = ['lemon','lemon,','lemons']\n",
    "exceptions = ['lemon gelatin','lemon jell-o gelatin','lemon yogurt']\n",
    "\n",
    "df_21 = replace_df_ingredients_with_keywords(keywords, exceptions, df_20)\n",
    "\n",
    "ingredients_with_keywords = get_all_diff_ingredients_with_keyword_df('lemon',df_21)\n",
    "\n",
    "elem_and_count_dict = elem_counter_list(ingredients_with_keywords)\n",
    "\n",
    "elem_and_count_df = pd.DataFrame(list(elem_and_count_dict.items()), columns=['key', 'value'])"
   ]
  },
  {
   "cell_type": "code",
   "execution_count": 41,
   "id": "e9d1040e",
   "metadata": {},
   "outputs": [],
   "source": [
    "replacement_dict = {\n",
    "    'lemon,':'lemon',\n",
    "    'lemons':'lemon',\n",
    "    'lemon jell-o gelatin':'gelatin',\n",
    "    'lemon gelatin':'gelatin',\n",
    "    'lemon yogurt':'yogurt',\n",
    "    'lemons, juice of':'lemon'\n",
    "}\n",
    "\n",
    "df_22 = replace_old_ingredients_with_new_df(replacement_dict, df_21)\n",
    "\n",
    "ingredients_with_keywords = get_all_diff_ingredients_with_keyword_df('lemon',df_22)\n",
    "\n",
    "elem_and_count_dict = elem_counter_list(ingredients_with_keywords)\n",
    "\n",
    "elem_and_count_df = pd.DataFrame(list(elem_and_count_dict.items()), columns=['key', 'value'])"
   ]
  },
  {
   "cell_type": "markdown",
   "id": "d31b3559",
   "metadata": {},
   "source": [
    "### Next Ingredient"
   ]
  },
  {
   "cell_type": "markdown",
   "id": "5be9b1ba",
   "metadata": {},
   "source": [
    "Cheese "
   ]
  },
  {
   "cell_type": "code",
   "execution_count": 42,
   "id": "6540e986",
   "metadata": {},
   "outputs": [],
   "source": [
    "less_used_ingredients = get_elem_from_df_from_start_index(36, elem_and_count_df)\n",
    "\n",
    "df_23 = get_df_filtered_without_list_ingredients(less_used_ingredients, df_22)\n",
    "\n",
    "ingredients_with_keywords = get_all_diff_ingredients_with_keyword_df('cheese',df_23)\n",
    "\n",
    "elem_and_count_dict = elem_counter_list(ingredients_with_keywords)\n",
    "\n",
    "elem_and_count_df = pd.DataFrame(list(elem_and_count_dict.items()), columns=['key', 'value'])"
   ]
  },
  {
   "cell_type": "code",
   "execution_count": 43,
   "id": "13620dfd",
   "metadata": {},
   "outputs": [],
   "source": [
    "df_24 = get_df_filtered_without_list_ingredients(['cheese tortellini','halloumi cheese'], df_23)\n",
    "\n",
    "ingredients_with_keywords = get_all_diff_ingredients_with_keyword_df('cheese',df_24)\n",
    "\n",
    "elem_and_count_dict = elem_counter_list(ingredients_with_keywords)\n",
    "\n",
    "elem_and_count_df = pd.DataFrame(list(elem_and_count_dict.items()), columns=['key', 'value'])"
   ]
  },
  {
   "cell_type": "code",
   "execution_count": 44,
   "id": "511a2d1b",
   "metadata": {},
   "outputs": [],
   "source": [
    "ingredients_with_keywords = get_all_diff_ingredients_with_keyword_df('cheese',df_24)\n",
    "\n",
    "elem_and_count_dict = elem_counter_list(ingredients_with_keywords)\n",
    "\n",
    "elem_and_count_df = pd.DataFrame(list(elem_and_count_dict.items()), columns=['key', 'value'])"
   ]
  },
  {
   "cell_type": "code",
   "execution_count": 45,
   "id": "7787635b",
   "metadata": {},
   "outputs": [],
   "source": [
    "keywords =['cheese']\n",
    "\n",
    "exceptions = ['cream cheese','light cream cheese','fat free cream cheese','philadelphia cream cheese','low-fat cream cheese','reduced-fat cream cheese','whipped cream cheese','cream cheese spread']\n",
    "\n",
    "df_25 = replace_df_ingredients_with_keywords(keywords, exceptions, df_24)\n",
    "\n",
    "ingredients_with_keywords = get_all_diff_ingredients_with_keyword_df('cheese',df_25)\n",
    "\n",
    "elem_and_count_dict = elem_counter_list(ingredients_with_keywords)\n",
    "\n",
    "elem_and_count_df = pd.DataFrame(list(elem_and_count_dict.items()), columns=['key', 'value'])"
   ]
  },
  {
   "cell_type": "markdown",
   "id": "19c7e493",
   "metadata": {},
   "source": [
    "### Next ingredient"
   ]
  },
  {
   "cell_type": "code",
   "execution_count": 46,
   "id": "33227add",
   "metadata": {},
   "outputs": [],
   "source": [
    "ingredients_with_keywords = get_all_diff_ingredients_with_keyword_df('mayonnaise',df_25)\n",
    "\n",
    "elem_and_count_dict = elem_counter_list(ingredients_with_keywords)\n",
    "\n",
    "elem_and_count_df = pd.DataFrame(list(elem_and_count_dict.items()), columns=['key', 'value'])"
   ]
  },
  {
   "cell_type": "code",
   "execution_count": 47,
   "id": "ed9097a7",
   "metadata": {},
   "outputs": [],
   "source": [
    "keywords =['mayonnaise']\n",
    "\n",
    "exceptions = []\n",
    "\n",
    "df_26 = replace_df_ingredients_with_keywords(keywords, exceptions, df_25)\n",
    "\n",
    "ingredients_with_keywords = get_all_diff_ingredients_with_keyword_df('mayonnaise',df_26)\n",
    "\n",
    "elem_and_count_dict = elem_counter_list(ingredients_with_keywords)\n",
    "\n",
    "elem_and_count_df = pd.DataFrame(list(elem_and_count_dict.items()), columns=['key', 'value'])"
   ]
  },
  {
   "cell_type": "code",
   "execution_count": 48,
   "id": "bf6e57f4",
   "metadata": {},
   "outputs": [],
   "source": [
    "replacement_dict = {\n",
    "    'buttermilk-mayonnaise dressing mix':'mayonnaise'\n",
    "}\n",
    "\n",
    "df_27 = replace_old_ingredients_with_new_df(replacement_dict, df_26)\n",
    "\n",
    "ingredients_with_keywords = get_all_diff_ingredients_with_keyword_df('mayonnaise',df_27)\n",
    "\n",
    "elem_and_count_dict = elem_counter_list(ingredients_with_keywords)\n",
    "\n",
    "elem_and_count_df = pd.DataFrame(list(elem_and_count_dict.items()), columns=['key', 'value'])"
   ]
  },
  {
   "cell_type": "markdown",
   "id": "9da7ef33",
   "metadata": {},
   "source": [
    "### Next Ingredient"
   ]
  },
  {
   "cell_type": "code",
   "execution_count": 49,
   "id": "6d4b5402-6f6a-4a79-9429-3b8989760271",
   "metadata": {},
   "outputs": [],
   "source": [
    "ingredients_with_keywords = get_all_diff_ingredients_with_keyword_df('mustard',df_27)\n",
    "\n",
    "elem_and_count_dict = elem_counter_list(ingredients_with_keywords)\n",
    "\n",
    "elem_and_count_df = pd.DataFrame(list(elem_and_count_dict.items()), columns=['key', 'value'])\n"
   ]
  },
  {
   "cell_type": "code",
   "execution_count": 50,
   "id": "4cb38e0b",
   "metadata": {},
   "outputs": [],
   "source": [
    "less_used_ingredients = get_elem_from_df_from_start_index(28, elem_and_count_df)\n",
    "\n",
    "df_28 = get_df_filtered_without_list_ingredients(less_used_ingredients, df_27)\n",
    "\n",
    "ingredients_with_keywords = get_all_diff_ingredients_with_keyword_df('mustard',df_28)\n",
    "\n",
    "elem_and_count_dict = elem_counter_list(ingredients_with_keywords)\n",
    "\n",
    "elem_and_count_df = pd.DataFrame(list(elem_and_count_dict.items()), columns=['key', 'value'])"
   ]
  },
  {
   "cell_type": "code",
   "execution_count": 51,
   "id": "52442f91",
   "metadata": {},
   "outputs": [],
   "source": [
    "keywords =['mustard']\n",
    "\n",
    "exceptions = []\n",
    "\n",
    "df_29 = replace_df_ingredients_with_keywords(keywords, exceptions, df_28)\n",
    "\n",
    "ingredients_with_keywords = get_all_diff_ingredients_with_keyword_df('mustard',df_29)\n",
    "\n",
    "elem_and_count_dict = elem_counter_list(ingredients_with_keywords)\n",
    "\n",
    "elem_and_count_df = pd.DataFrame(list(elem_and_count_dict.items()), columns=['key', 'value'])"
   ]
  },
  {
   "cell_type": "markdown",
   "id": "cb42e23e",
   "metadata": {},
   "source": [
    "### Next ingredient"
   ]
  },
  {
   "cell_type": "code",
   "execution_count": 52,
   "id": "7420dfe0",
   "metadata": {},
   "outputs": [],
   "source": [
    "ingredients_with_keywords = get_all_diff_ingredients_with_keyword_df('tomatoes',df_29)\n",
    "\n",
    "elem_and_count_dict = elem_counter_list(ingredients_with_keywords)\n",
    "\n",
    "elem_and_count_df = pd.DataFrame(list(elem_and_count_dict.items()), columns=['key', 'value'])"
   ]
  },
  {
   "cell_type": "code",
   "execution_count": 53,
   "id": "b2b2a098",
   "metadata": {},
   "outputs": [],
   "source": [
    "keywords =['tomatoes']\n",
    "\n",
    "exceptions = ['stewed tomatoes','sun-dried tomatoes','dried tomatoes']\n",
    "\n",
    "df_29 = replace_df_ingredients_with_keywords(keywords, exceptions, df_28)\n",
    "\n",
    "ingredients_with_keywords = get_all_diff_ingredients_with_keyword_df('tomatoes',df_29)\n",
    "\n",
    "elem_and_count_dict = elem_counter_list(ingredients_with_keywords)\n",
    "\n",
    "elem_and_count_df = pd.DataFrame(list(elem_and_count_dict.items()), columns=['key', 'value'])"
   ]
  },
  {
   "cell_type": "code",
   "execution_count": 54,
   "id": "339fbfe6",
   "metadata": {},
   "outputs": [],
   "source": [
    "replacement_dict = {\n",
    "    'tomatoes':'tomato',\n",
    "    'stewed tomatoes,':'tomato sauce',\n",
    "    'dried tomatoes':'dried tomato',\n",
    "    'sun-dried tomatoes':'dried tomato'\n",
    "}\n",
    "\n",
    "df_30 = replace_old_ingredients_with_new_df(replacement_dict, df_29)\n",
    "\n",
    "ingredients_with_keywords = get_all_diff_ingredients_with_keyword_df('tomato',df_30)\n",
    "\n",
    "elem_and_count_dict = elem_counter_list(ingredients_with_keywords)\n",
    "\n",
    "elem_and_count_df = pd.DataFrame(list(elem_and_count_dict.items()), columns=['key', 'value'])"
   ]
  },
  {
   "cell_type": "code",
   "execution_count": 55,
   "id": "0095806a",
   "metadata": {},
   "outputs": [],
   "source": [
    "less_used_ingredients = get_elem_from_df_from_start_index(20, elem_and_count_df)\n",
    "\n",
    "df_31 = get_df_filtered_without_list_ingredients(less_used_ingredients, df_30)\n",
    "\n",
    "ingredients_with_keywords = get_all_diff_ingredients_with_keyword_df('tomato',df_31)\n",
    "\n",
    "elem_and_count_dict = elem_counter_list(ingredients_with_keywords)\n",
    "\n",
    "elem_and_count_df = pd.DataFrame(list(elem_and_count_dict.items()), columns=['key', 'value'])"
   ]
  },
  {
   "cell_type": "code",
   "execution_count": 56,
   "id": "54070c19",
   "metadata": {},
   "outputs": [],
   "source": [
    "keywords =['tomato']\n",
    "\n",
    "exceptions = ['dried tomato','sun-dried tomato','tomato paste','tomato juice','tomato sauce','tomato soup','tomato ketchup','condensed tomato soup','stewed tomatoes','sun-dried tomato paste','sun-dried tomato pesto']\n",
    "\n",
    "df_32 = replace_df_ingredients_with_keywords(keywords, exceptions, df_31)\n",
    "\n",
    "ingredients_with_keywords = get_all_diff_ingredients_with_keyword_df('tomato',df_32)\n",
    "\n",
    "elem_and_count_dict = elem_counter_list(ingredients_with_keywords)\n",
    "\n",
    "elem_and_count_df = pd.DataFrame(list(elem_and_count_dict.items()), columns=['key', 'value'])"
   ]
  },
  {
   "cell_type": "code",
   "execution_count": 57,
   "id": "5e70af28",
   "metadata": {},
   "outputs": [],
   "source": [
    "replacement_dict = {\n",
    "    'sun-dried tomato':'dried tomato',\n",
    "    'tomato paste':'tomato sauce',\n",
    "    'tomato juice':'tomato sauce',\n",
    "    'tomato soup':'tomato sauce',\n",
    "    'tomato ketchup':'ketchup',\n",
    "    'condensed tomato soup':'tomato sauce',\n",
    "    'stewed tomatoes':'tomato sauce',\n",
    "    'sun-dried tomato paste':'tomato sauce',\n",
    "    'sun-dried tomato pesto':['dried tomato','pesto']\n",
    "}\n",
    "\n",
    "df_33 = replace_old_ingredients_with_new_df(replacement_dict, df_32)\n",
    "\n",
    "ingredients_with_keywords = get_all_diff_ingredients_with_keyword_df('tomato',df_33)\n",
    "\n",
    "elem_and_count_dict = elem_counter_list(ingredients_with_keywords)\n",
    "\n",
    "elem_and_count_df = pd.DataFrame(list(elem_and_count_dict.items()), columns=['key', 'value'])"
   ]
  },
  {
   "cell_type": "markdown",
   "id": "4e1f4994",
   "metadata": {},
   "source": [
    "### Next ingredient "
   ]
  },
  {
   "cell_type": "code",
   "execution_count": 58,
   "id": "ee09d496",
   "metadata": {},
   "outputs": [],
   "source": [
    "ingredients_with_keywords = get_all_diff_ingredients_with_keyword_df('celery',df_33)\n",
    "\n",
    "elem_and_count_dict = elem_counter_list(ingredients_with_keywords)\n",
    "\n",
    "elem_and_count_df = pd.DataFrame(list(elem_and_count_dict.items()), columns=['key', 'value'])"
   ]
  },
  {
   "cell_type": "code",
   "execution_count": 59,
   "id": "6b86b620",
   "metadata": {},
   "outputs": [],
   "source": [
    "keywords =['celery']\n",
    "\n",
    "exceptions = []\n",
    "\n",
    "df_34 = replace_df_ingredients_with_keywords(keywords, exceptions, df_33)\n",
    "\n",
    "ingredients_with_keywords = get_all_diff_ingredients_with_keyword_df('celery',df_34)\n",
    "\n",
    "elem_and_count_dict = elem_counter_list(ingredients_with_keywords)\n",
    "\n",
    "elem_and_count_df = pd.DataFrame(list(elem_and_count_dict.items()), columns=['key', 'value'])"
   ]
  },
  {
   "cell_type": "markdown",
   "id": "5893485f",
   "metadata": {},
   "source": [
    "### Next Ingredient"
   ]
  },
  {
   "cell_type": "code",
   "execution_count": 60,
   "id": "cba836a3",
   "metadata": {},
   "outputs": [],
   "source": [
    "ingredients_with_keywords = get_all_diff_ingredients_with_keyword_df('lettuce',df_34)\n",
    "\n",
    "elem_and_count_dict = elem_counter_list(ingredients_with_keywords)\n",
    "\n",
    "elem_and_count_df = pd.DataFrame(list(elem_and_count_dict.items()), columns=['key', 'value'])"
   ]
  },
  {
   "cell_type": "code",
   "execution_count": 61,
   "id": "f848d685",
   "metadata": {},
   "outputs": [],
   "source": [
    "keywords =['lettuce','lettuces']\n",
    "\n",
    "exceptions = []\n",
    "\n",
    "df_35 = replace_df_ingredients_with_keywords(keywords, exceptions, df_34)\n",
    "\n",
    "ingredients_with_keywords = get_all_diff_ingredients_with_keyword_df('lettuce',df_35)\n",
    "\n",
    "elem_and_count_dict = elem_counter_list(ingredients_with_keywords)\n",
    "\n",
    "elem_and_count_df = pd.DataFrame(list(elem_and_count_dict.items()), columns=['key', 'value'])"
   ]
  },
  {
   "cell_type": "code",
   "execution_count": 62,
   "id": "50154ab3",
   "metadata": {},
   "outputs": [],
   "source": [
    "replacement_dict = {\n",
    "    'lettuces':'lettuce'\n",
    "}\n",
    "\n",
    "df_36 = replace_old_ingredients_with_new_df(replacement_dict, df_35)\n",
    "\n",
    "ingredients_with_keywords = get_all_diff_ingredients_with_keyword_df('lettuce',df_36)\n",
    "\n",
    "elem_and_count_dict = elem_counter_list(ingredients_with_keywords)\n",
    "\n",
    "elem_and_count_df = pd.DataFrame(list(elem_and_count_dict.items()), columns=['key', 'value'])"
   ]
  },
  {
   "cell_type": "markdown",
   "id": "66c87f62",
   "metadata": {},
   "source": [
    "### New Ingredient"
   ]
  },
  {
   "cell_type": "code",
   "execution_count": 63,
   "id": "ac37a91c",
   "metadata": {},
   "outputs": [],
   "source": [
    "ingredients_with_keywords = get_all_diff_ingredients_with_keyword_df('parsley',df_36)\n",
    "\n",
    "elem_and_count_dict = elem_counter_list(ingredients_with_keywords)\n",
    "\n",
    "elem_and_count_df = pd.DataFrame(list(elem_and_count_dict.items()), columns=['key', 'value'])"
   ]
  },
  {
   "cell_type": "code",
   "execution_count": 64,
   "id": "45000fe8",
   "metadata": {},
   "outputs": [],
   "source": [
    "keywords =['parsley']\n",
    "\n",
    "exceptions = []\n",
    "\n",
    "df_37 = replace_df_ingredients_with_keywords(keywords, exceptions, df_36)\n",
    "\n",
    "ingredients_with_keywords = get_all_diff_ingredients_with_keyword_df('parsley',df_37)\n",
    "\n",
    "elem_and_count_dict = elem_counter_list(ingredients_with_keywords)\n",
    "\n",
    "elem_and_count_df = pd.DataFrame(list(elem_and_count_dict.items()), columns=['key', 'value'])"
   ]
  },
  {
   "cell_type": "markdown",
   "id": "37361c7a",
   "metadata": {},
   "source": [
    "### Next Ingredient"
   ]
  },
  {
   "cell_type": "code",
   "execution_count": 65,
   "id": "53d1bdf9",
   "metadata": {},
   "outputs": [],
   "source": [
    "ingredients_with_keywords = get_all_diff_ingredients_with_keyword_df('chicken',df_37)\n",
    "\n",
    "elem_and_count_dict = elem_counter_list(ingredients_with_keywords)\n",
    "\n",
    "elem_and_count_df = pd.DataFrame(list(elem_and_count_dict.items()), columns=['key', 'value'])"
   ]
  },
  {
   "cell_type": "code",
   "execution_count": 66,
   "id": "8a9ca6b1",
   "metadata": {},
   "outputs": [],
   "source": [
    "less_used_ingredients = get_elem_from_df_from_start_index(40, elem_and_count_df)\n",
    "\n",
    "df_38 = get_df_filtered_without_list_ingredients(less_used_ingredients, df_37)\n",
    "\n",
    "ingredients_with_keywords = get_all_diff_ingredients_with_keyword_df('chicken',df_38)\n",
    "\n",
    "elem_and_count_dict = elem_counter_list(ingredients_with_keywords)\n",
    "\n",
    "elem_and_count_df = pd.DataFrame(list(elem_and_count_dict.items()), columns=['key', 'value'])"
   ]
  },
  {
   "cell_type": "code",
   "execution_count": 67,
   "id": "93514129",
   "metadata": {},
   "outputs": [],
   "source": [
    "keywords =['chicken']\n",
    "\n",
    "exceptions = ['chicken broth','chicken stock','chicken-flavored ramen noodles','reduced-sodium chicken broth','chicken rice pilaf mix']\n",
    "\n",
    "df_39 = replace_df_ingredients_with_keywords(keywords, exceptions, df_38)\n",
    "\n",
    "ingredients_with_keywords = get_all_diff_ingredients_with_keyword_df('chicken',df_39)\n",
    "\n",
    "elem_and_count_dict = elem_counter_list(ingredients_with_keywords)\n",
    "\n",
    "elem_and_count_df = pd.DataFrame(list(elem_and_count_dict.items()), columns=['key', 'value'])"
   ]
  },
  {
   "cell_type": "code",
   "execution_count": 68,
   "id": "a78c6917",
   "metadata": {},
   "outputs": [],
   "source": [
    "replacement_dict = {\n",
    "    'chicken broth':'chicken soup',\n",
    "    'chicken stock':'chicken soup',\n",
    "    'chicken-flavored ramen noodles':'noodles',\n",
    "    'reduced-sodium chicken broth':'chicken soup',\n",
    "    'chicken rice pilaf mix':['chicken','rice']\n",
    "}\n",
    "\n",
    "df_40 = replace_old_ingredients_with_new_df(replacement_dict, df_39)\n",
    "\n",
    "ingredients_with_keywords = get_all_diff_ingredients_with_keyword_df('chicken',df_40)\n",
    "\n",
    "elem_and_count_dict = elem_counter_list(ingredients_with_keywords)\n",
    "\n",
    "elem_and_count_df = pd.DataFrame(list(elem_and_count_dict.items()), columns=['key', 'value'])"
   ]
  },
  {
   "cell_type": "markdown",
   "id": "99cecaa6",
   "metadata": {},
   "source": [
    "### Next ingredient"
   ]
  },
  {
   "cell_type": "code",
   "execution_count": 69,
   "id": "927baabb",
   "metadata": {},
   "outputs": [],
   "source": [
    "ingredients_with_keywords = get_all_diff_ingredients_with_keyword_df('cream',df_40)\n",
    "\n",
    "elem_and_count_dict = elem_counter_list(ingredients_with_keywords)\n",
    "\n",
    "elem_and_count_df = pd.DataFrame(list(elem_and_count_dict.items()), columns=['key', 'value'])"
   ]
  },
  {
   "cell_type": "code",
   "execution_count": 70,
   "id": "ba7e1bf8",
   "metadata": {
    "editable": true,
    "slideshow": {
     "slide_type": ""
    },
    "tags": []
   },
   "outputs": [],
   "source": [
    "less_used_ingredients = get_elem_from_df_from_start_index(4, elem_and_count_df)\n",
    "\n",
    "df_41 = get_df_filtered_without_list_ingredients(less_used_ingredients, df_40)\n",
    "\n",
    "ingredients_with_keywords = get_all_diff_ingredients_with_keyword_df('cream',df_41)\n",
    "\n",
    "elem_and_count_dict = elem_counter_list(ingredients_with_keywords)\n",
    "\n",
    "elem_and_count_df = pd.DataFrame(list(elem_and_count_dict.items()), columns=['key', 'value'])"
   ]
  },
  {
   "cell_type": "code",
   "execution_count": 71,
   "id": "9b16b000",
   "metadata": {},
   "outputs": [],
   "source": [
    "replacement_dict = {\n",
    "    'low-fat sour cream':'sour cream',\n",
    "    'light sour cream':'sour cream'\n",
    "}\n",
    "\n",
    "df_42 = replace_old_ingredients_with_new_df(replacement_dict, df_41)\n",
    "\n",
    "ingredients_with_keywords = get_all_diff_ingredients_with_keyword_df('cream',df_42)\n",
    "\n",
    "elem_and_count_dict = elem_counter_list(ingredients_with_keywords)\n",
    "\n",
    "elem_and_count_df = pd.DataFrame(list(elem_and_count_dict.items()), columns=['key', 'value'])"
   ]
  },
  {
   "cell_type": "markdown",
   "id": "dcf9b65f",
   "metadata": {},
   "source": [
    "### Next Ingredient"
   ]
  },
  {
   "cell_type": "code",
   "execution_count": 72,
   "id": "9a2a99db-e703-4f23-8af3-cddd89590237",
   "metadata": {},
   "outputs": [],
   "source": [
    "ingredients_with_keywords = get_all_diff_ingredients_with_keyword_df('beans',df_42)\n",
    "\n",
    "elem_and_count_dict = elem_counter_list(ingredients_with_keywords)\n",
    "\n",
    "elem_and_count_df = pd.DataFrame(list(elem_and_count_dict.items()), columns=['key', 'value'])"
   ]
  },
  {
   "cell_type": "code",
   "execution_count": 73,
   "id": "6c8c4c58",
   "metadata": {},
   "outputs": [],
   "source": [
    "less_used_ingredients = get_elem_from_df_from_start_index(32, elem_and_count_df)\n",
    "\n",
    "df_43 = get_df_filtered_without_list_ingredients(less_used_ingredients, df_42)\n",
    "\n",
    "ingredients_with_keywords = get_all_diff_ingredients_with_keyword_df('beans',df_43)\n",
    "\n",
    "elem_and_count_dict = elem_counter_list(ingredients_with_keywords)\n",
    "\n",
    "elem_and_count_df = pd.DataFrame(list(elem_and_count_dict.items()), columns=['key', 'value'])"
   ]
  },
  {
   "cell_type": "code",
   "execution_count": 74,
   "id": "99e4e466",
   "metadata": {},
   "outputs": [],
   "source": [
    "keywords = ['beans']\n",
    "exceptions = ['garbanzo beans','green beens','wax beans','frozen green beans','french style green beans','cut wax beans','yellow wax beans','yellow beans','string beans','dried garbanzo beans','mung beans','pork and beans'\t]\n",
    "\n",
    "df_44 = replace_df_ingredients_with_keywords(keywords, exceptions, df_43)\n",
    "\n",
    "ingredients_with_keywords = get_all_diff_ingredients_with_keyword_df('beans',df_44)\n",
    "\n",
    "elem_and_count_dict = elem_counter_list(ingredients_with_keywords)\n",
    "\n",
    "elem_and_count_df = pd.DataFrame(list(elem_and_count_dict.items()), columns=['key', 'value'])"
   ]
  },
  {
   "cell_type": "code",
   "execution_count": 75,
   "id": "9ed82950",
   "metadata": {},
   "outputs": [],
   "source": [
    "replacement_dict = {\n",
    "    'garbanzo beans':'chickpea',\n",
    "    'wax beans':'green beans',\n",
    "    'frozen green beans':'green beans',\n",
    "    'french style green beans':'green beans',\n",
    "    'cut wax beans':'green beans',\n",
    "    'yellow wax beans':'green beans',\n",
    "    'yellow beans': 'green beans',\n",
    "    'string beans':'green beans',\n",
    "    'dried garbanzo beans':'chickpea',\n",
    "    'mung beans':'green beans',\n",
    "    'pork and beans':['pork','beans']\n",
    "}\n",
    "\n",
    "df_45 = replace_old_ingredients_with_new_df(replacement_dict, df_44)\n",
    "\n",
    "ingredients_with_keywords = get_all_diff_ingredients_with_keyword_df('beans',df_45)\n",
    "\n",
    "elem_and_count_dict = elem_counter_list(ingredients_with_keywords)\n",
    "\n",
    "elem_and_count_df = pd.DataFrame(list(elem_and_count_dict.items()), columns=['key', 'value'])"
   ]
  },
  {
   "cell_type": "markdown",
   "id": "9a484916",
   "metadata": {},
   "source": [
    "### Next ingredient"
   ]
  },
  {
   "cell_type": "code",
   "execution_count": 76,
   "id": "dc0bd07e",
   "metadata": {},
   "outputs": [],
   "source": [
    "ingredients_with_keywords = get_all_diff_ingredients_with_keyword_df('cucumber',df_45)\n",
    "\n",
    "elem_and_count_dict = elem_counter_list(ingredients_with_keywords)\n",
    "\n",
    "elem_and_count_df = pd.DataFrame(list(elem_and_count_dict.items()), columns=['key', 'value'])"
   ]
  },
  {
   "cell_type": "code",
   "execution_count": 77,
   "id": "420f8c5e",
   "metadata": {},
   "outputs": [],
   "source": [
    "keywords = ['cucumber','cucumbers']\n",
    "exceptions = ['pickling cucumbers','pickling cucumber']\n",
    "\n",
    "df_46 = replace_df_ingredients_with_keywords(keywords, exceptions, df_45)\n",
    "\n",
    "ingredients_with_keywords = get_all_diff_ingredients_with_keyword_df('cucumber',df_46)\n",
    "\n",
    "elem_and_count_dict = elem_counter_list(ingredients_with_keywords)\n",
    "\n",
    "elem_and_count_df = pd.DataFrame(list(elem_and_count_dict.items()), columns=['key', 'value'])"
   ]
  },
  {
   "cell_type": "code",
   "execution_count": 78,
   "id": "8c52c00c",
   "metadata": {},
   "outputs": [],
   "source": [
    "replacement_dict = {\n",
    "    'pickling cucumbers':'pickle',\n",
    "    'pickling cucumber':'pickle',\n",
    "    'cucumber-dill salad dressing':'cucumber',\n",
    "    'cucumbers':'cucumber'\n",
    "}\n",
    "\n",
    "df_47 = replace_old_ingredients_with_new_df(replacement_dict, df_46)\n",
    "\n",
    "ingredients_with_keywords = get_all_diff_ingredients_with_keyword_df('cucumber',df_47)\n",
    "\n",
    "elem_and_count_dict = elem_counter_list(ingredients_with_keywords)\n",
    "\n",
    "elem_and_count_df = pd.DataFrame(list(elem_and_count_dict.items()), columns=['key', 'value'])"
   ]
  },
  {
   "cell_type": "markdown",
   "id": "46173476",
   "metadata": {},
   "source": [
    "### Next ingredient"
   ]
  },
  {
   "cell_type": "code",
   "execution_count": 79,
   "id": "2c9bf4f8",
   "metadata": {},
   "outputs": [],
   "source": [
    "ingredients_with_keywords = get_all_diff_ingredients_with_keyword_df('basil',df_47)\n",
    "\n",
    "elem_and_count_dict = elem_counter_list(ingredients_with_keywords)\n",
    "\n",
    "elem_and_count_df = pd.DataFrame(list(elem_and_count_dict.items()), columns=['key', 'value'])"
   ]
  },
  {
   "cell_type": "code",
   "execution_count": 80,
   "id": "39395f99",
   "metadata": {},
   "outputs": [],
   "source": [
    "keywords = ['basil']\n",
    "exceptions = ['basil pesto','pickling cucumber','suddenly salad basil pesto pasta salad mix']\n",
    "\n",
    "df_48 = replace_df_ingredients_with_keywords(keywords, exceptions, df_47)\n",
    "\n",
    "ingredients_with_keywords = get_all_diff_ingredients_with_keyword_df('basil',df_48)\n",
    "\n",
    "elem_and_count_dict = elem_counter_list(ingredients_with_keywords)\n",
    "\n",
    "elem_and_count_df = pd.DataFrame(list(elem_and_count_dict.items()), columns=['key', 'value'])"
   ]
  },
  {
   "cell_type": "code",
   "execution_count": 81,
   "id": "ba7e678a",
   "metadata": {},
   "outputs": [],
   "source": [
    "replacement_dict = {\n",
    "    'basil pesto':'pesto',\n",
    "    'suddenly salad basil pesto pasta salad mix':['pesto','pasta']\n",
    "}\n",
    "\n",
    "df_49 = replace_old_ingredients_with_new_df(replacement_dict, df_48)\n",
    "\n",
    "ingredients_with_keywords = get_all_diff_ingredients_with_keyword_df('basil',df_49)\n",
    "\n",
    "elem_and_count_dict = elem_counter_list(ingredients_with_keywords)\n",
    "\n",
    "elem_and_count_df = pd.DataFrame(list(elem_and_count_dict.items()), columns=['key', 'value'])"
   ]
  },
  {
   "cell_type": "markdown",
   "id": "6c98b53c",
   "metadata": {},
   "source": [
    "### Next ingredient"
   ]
  },
  {
   "cell_type": "code",
   "execution_count": 82,
   "id": "a220239d",
   "metadata": {},
   "outputs": [],
   "source": [
    "ingredients_with_keywords = get_all_diff_ingredients_with_keyword_df('honey',df_49)\n",
    "\n",
    "elem_and_count_dict = elem_counter_list(ingredients_with_keywords)\n",
    "\n",
    "elem_and_count_df = pd.DataFrame(list(elem_and_count_dict.items()), columns=['key', 'value'])"
   ]
  },
  {
   "cell_type": "code",
   "execution_count": 83,
   "id": "11c23eca",
   "metadata": {},
   "outputs": [],
   "source": [
    "less_used_ingredients = get_elem_from_df_from_start_index(22, elem_and_count_df)\n",
    "\n",
    "df_50 = get_df_filtered_without_list_ingredients(less_used_ingredients, df_49)\n",
    "\n",
    "ingredients_with_keywords = get_all_diff_ingredients_with_keyword_df('honey',df_50)\n",
    "\n",
    "elem_and_count_dict = elem_counter_list(ingredients_with_keywords)\n",
    "\n",
    "elem_and_count_df = pd.DataFrame(list(elem_and_count_dict.items()), columns=['key', 'value'])"
   ]
  },
  {
   "cell_type": "code",
   "execution_count": 84,
   "id": "8a89a16f",
   "metadata": {},
   "outputs": [],
   "source": [
    "keywords = ['honey']\n",
    "exceptions = ['honey peanuts','pickling cucumber','suddenly salad basil pesto pasta salad mix','whole wheat honey graham crackers','light honey dijon salad dressing',\"98% fat-free honey ham\"]\n",
    "\n",
    "df_51 = replace_df_ingredients_with_keywords(keywords, exceptions, df_50)\n",
    "\n",
    "ingredients_with_keywords = get_all_diff_ingredients_with_keyword_df('honey',df_51)\n",
    "\n",
    "elem_and_count_dict = elem_counter_list(ingredients_with_keywords)\n",
    "\n",
    "elem_and_count_df = pd.DataFrame(list(elem_and_count_dict.items()), columns=['key', 'value'])"
   ]
  },
  {
   "cell_type": "code",
   "execution_count": 85,
   "id": "70210d62",
   "metadata": {},
   "outputs": [],
   "source": [
    "replacement_dict = {\n",
    "    'honey peanuts':'peanut',\n",
    "    'fat-free honey-dijon salad dressing':['oil','vinegar','honey','mustard'],\n",
    "    'whole wheat honey graham crackers':'crackers',\n",
    "    'honey-balsamic vinaigrette':['oil','vinegar','honey','mustard'],\n",
    "    'light honey dijon salad dressing':['oil','vinegar','honey','mustard'],\n",
    "    '98% fat-free honey ham':['honey','ham']\n",
    "}\n",
    "\n",
    "df_52 = replace_old_ingredients_with_new_df(replacement_dict, df_51)\n",
    "\n",
    "ingredients_with_keywords = get_all_diff_ingredients_with_keyword_df('honey',df_52)\n",
    "\n",
    "elem_and_count_dict = elem_counter_list(ingredients_with_keywords)\n",
    "\n",
    "elem_and_count_df = pd.DataFrame(list(elem_and_count_dict.items()), columns=['key', 'value'])"
   ]
  },
  {
   "cell_type": "markdown",
   "id": "1a1f795d",
   "metadata": {},
   "source": [
    "### Next ingredient"
   ]
  },
  {
   "cell_type": "code",
   "execution_count": 86,
   "id": "0c9fa9f4",
   "metadata": {},
   "outputs": [],
   "source": [
    "ingredients_with_keywords = get_all_diff_ingredients_with_keyword_df('orange',df_52)\n",
    "\n",
    "elem_and_count_dict = elem_counter_list(ingredients_with_keywords)\n",
    "\n",
    "elem_and_count_df = pd.DataFrame(list(elem_and_count_dict.items()), columns=['key', 'value'])"
   ]
  },
  {
   "cell_type": "code",
   "execution_count": 87,
   "id": "84315e72",
   "metadata": {},
   "outputs": [],
   "source": [
    "less_used_ingredients = get_elem_from_df_from_start_index(21, elem_and_count_df)\n",
    "\n",
    "df_53 = get_df_filtered_without_list_ingredients(less_used_ingredients, df_52)\n",
    "\n",
    "ingredients_with_keywords = get_all_diff_ingredients_with_keyword_df('orange',df_53)\n",
    "\n",
    "elem_and_count_dict = elem_counter_list(ingredients_with_keywords)\n",
    "\n",
    "elem_and_count_df = pd.DataFrame(list(elem_and_count_dict.items()), columns=['key', 'value'])"
   ]
  },
  {
   "cell_type": "code",
   "execution_count": 88,
   "id": "ead127e1",
   "metadata": {},
   "outputs": [],
   "source": [
    "keywords = ['orange','oranges','orange,']\n",
    "exceptions = ['orange jell-o']\n",
    "df_54 = replace_df_ingredients_with_keywords(keywords, exceptions, df_53)\n",
    "\n",
    "ingredients_with_keywords = get_all_diff_ingredients_with_keyword_df('orange',df_54)\n",
    "\n",
    "elem_and_count_dict = elem_counter_list(ingredients_with_keywords)\n",
    "\n",
    "elem_and_count_df = pd.DataFrame(list(elem_and_count_dict.items()), columns=['key', 'value'])"
   ]
  },
  {
   "cell_type": "code",
   "execution_count": 89,
   "id": "c56897c6",
   "metadata": {},
   "outputs": [],
   "source": [
    "replacement_dict = {\n",
    "    'orange jell-o':'gelatine',\n",
    "    'orange,':'orange',\n",
    "    'oranges':'orange'\n",
    "}\n",
    "\n",
    "df_55 = replace_old_ingredients_with_new_df(replacement_dict, df_54)\n",
    "\n",
    "ingredients_with_keywords = get_all_diff_ingredients_with_keyword_df('orange',df_55)\n",
    "\n",
    "elem_and_count_dict = elem_counter_list(ingredients_with_keywords)\n",
    "\n",
    "elem_and_count_df = pd.DataFrame(list(elem_and_count_dict.items()), columns=['key', 'value'])"
   ]
  },
  {
   "cell_type": "markdown",
   "id": "3625beb7",
   "metadata": {},
   "source": [
    "### Next ingredient"
   ]
  },
  {
   "cell_type": "code",
   "execution_count": 90,
   "id": "ad7de89a",
   "metadata": {},
   "outputs": [],
   "source": [
    "ingredients_with_keywords = get_all_diff_ingredients_with_keyword_df('cilantro',df_55)\n",
    "\n",
    "elem_and_count_dict = elem_counter_list(ingredients_with_keywords)\n",
    "\n",
    "elem_and_count_df = pd.DataFrame(list(elem_and_count_dict.items()), columns=['key', 'value'])"
   ]
  },
  {
   "cell_type": "code",
   "execution_count": 91,
   "id": "fda5624d",
   "metadata": {},
   "outputs": [],
   "source": [
    "keywords = ['cilantro']\n",
    "exceptions = []\n",
    "df_56 = replace_df_ingredients_with_keywords(keywords, exceptions, df_55)\n",
    "\n",
    "ingredients_with_keywords = get_all_diff_ingredients_with_keyword_df('cilantro',df_56)\n",
    "\n",
    "elem_and_count_dict = elem_counter_list(ingredients_with_keywords)\n",
    "\n",
    "elem_and_count_df = pd.DataFrame(list(elem_and_count_dict.items()), columns=['key', 'value'])"
   ]
  },
  {
   "cell_type": "markdown",
   "id": "df40872f",
   "metadata": {},
   "source": [
    "### Next ingredient"
   ]
  },
  {
   "cell_type": "code",
   "execution_count": 92,
   "id": "9a68ca49",
   "metadata": {},
   "outputs": [],
   "source": [
    "ingredients_with_keywords = get_all_diff_ingredients_with_keyword_df('lime',df_56)\n",
    "\n",
    "elem_and_count_dict = elem_counter_list(ingredients_with_keywords)\n",
    "\n",
    "elem_and_count_df = pd.DataFrame(list(elem_and_count_dict.items()), columns=['key', 'value'])"
   ]
  },
  {
   "cell_type": "code",
   "execution_count": 93,
   "id": "228ec249",
   "metadata": {},
   "outputs": [],
   "source": [
    "less_used_ingredients = get_elem_from_df_from_start_index(13, elem_and_count_df)\n",
    "\n",
    "df_57 = get_df_filtered_without_list_ingredients(less_used_ingredients, df_56)\n",
    "\n",
    "ingredients_with_keywords = get_all_diff_ingredients_with_keyword_df('lime',df_57)\n",
    "\n",
    "elem_and_count_dict = elem_counter_list(ingredients_with_keywords)\n",
    "\n",
    "elem_and_count_df = pd.DataFrame(list(elem_and_count_dict.items()), columns=['key', 'value'])"
   ]
  },
  {
   "cell_type": "code",
   "execution_count": 94,
   "id": "b3cc756e",
   "metadata": {},
   "outputs": [],
   "source": [
    "keywords = ['lime','limes','lime,','limes,']\n",
    "exceptions = ['lime gelatin','sugar-free lime gelatin','lime jell-o gelatin']\n",
    "df_58 = replace_df_ingredients_with_keywords(keywords, exceptions, df_57)\n",
    "\n",
    "ingredients_with_keywords = get_all_diff_ingredients_with_keyword_df('lime',df_58)\n",
    "\n",
    "elem_and_count_dict = elem_counter_list(ingredients_with_keywords)\n",
    "\n",
    "elem_and_count_df = pd.DataFrame(list(elem_and_count_dict.items()), columns=['key', 'value'])"
   ]
  },
  {
   "cell_type": "code",
   "execution_count": 95,
   "id": "ce8ece6d",
   "metadata": {},
   "outputs": [],
   "source": [
    "replacement_dict = {\n",
    "    'lime gelatin':'gelatine',\n",
    "    'sugar-free lime gelatin':'gelatin',\n",
    "    'lime jell-o gelatin':'gelatine',\n",
    "    'limes':'lime',\n",
    "    'lime,':'lime',\n",
    "    'limes,':'lime',\n",
    "    \n",
    "}\n",
    "\n",
    "df_59 = replace_old_ingredients_with_new_df(replacement_dict, df_58)\n",
    "\n",
    "ingredients_with_keywords = get_all_diff_ingredients_with_keyword_df('lime',df_59)\n",
    "\n",
    "elem_and_count_dict = elem_counter_list(ingredients_with_keywords)\n",
    "\n",
    "elem_and_count_df = pd.DataFrame(list(elem_and_count_dict.items()), columns=['key', 'value'])"
   ]
  },
  {
   "cell_type": "code",
   "execution_count": 96,
   "id": "43a9a21a",
   "metadata": {},
   "outputs": [],
   "source": [
    "replacement_dict = {\n",
    "    'lime':'lemon'\n",
    "    \n",
    "}\n",
    "\n",
    "df_60 = replace_old_ingredients_with_new_df(replacement_dict, df_59)\n",
    "\n",
    "ingredients_with_keywords = get_all_diff_ingredients_with_keyword_df('lemon',df_60)\n",
    "\n",
    "elem_and_count_dict = elem_counter_list(ingredients_with_keywords)\n",
    "\n",
    "elem_and_count_df = pd.DataFrame(list(elem_and_count_dict.items()), columns=['key', 'value'])"
   ]
  },
  {
   "cell_type": "markdown",
   "id": "cca31984",
   "metadata": {},
   "source": [
    "### Visualize the ingredients"
   ]
  },
  {
   "cell_type": "code",
   "execution_count": 97,
   "id": "b3bf19f5-d7cc-4d41-8815-5f169ec936dd",
   "metadata": {},
   "outputs": [],
   "source": [
    "visualization_df = sorted_ingridient_counter_df(df_60)\n",
    "# visualization_df.head(100)"
   ]
  },
  {
   "cell_type": "markdown",
   "id": "07668f0b",
   "metadata": {},
   "source": [
    "water\tcarrot  bacon soy sauce sesame oil potatoes"
   ]
  },
  {
   "cell_type": "markdown",
   "id": "13f504ab",
   "metadata": {},
   "source": [
    "### Next ingredient"
   ]
  },
  {
   "cell_type": "code",
   "execution_count": 98,
   "id": "9c56ca1f-05ef-469a-9244-1312e72cc1ca",
   "metadata": {},
   "outputs": [],
   "source": [
    "all_words = get_all_words_in_ingredients_df(df_60)\n",
    "\n",
    "count_dict = elem_counter_list(all_words)\n",
    "\n",
    "count_df = pd.DataFrame(list(count_dict.items()), columns=['key', 'value'])"
   ]
  },
  {
   "cell_type": "code",
   "execution_count": 99,
   "id": "3e7deeed",
   "metadata": {},
   "outputs": [],
   "source": [
    "ingredients_with_keywords = get_all_diff_ingredients_with_keyword_df('water',df_60)\n",
    "\n",
    "elem_and_count_dict = elem_counter_list(ingredients_with_keywords)\n",
    "\n",
    "elem_and_count_df = pd.DataFrame(list(elem_and_count_dict.items()), columns=['key', 'value'])"
   ]
  },
  {
   "cell_type": "code",
   "execution_count": 100,
   "id": "ecf39d5e",
   "metadata": {},
   "outputs": [],
   "source": [
    "ingredients_to_remove =['water', 'boiling water', 'mineral water','salt water']\n",
    "\n",
    "df_61 = remove_ingredients_from_df(ingredients_to_remove, df_60)\n",
    "\n",
    "ingredients_with_keywords = get_all_diff_ingredients_with_keyword_df('water',df_61)\n",
    "\n",
    "elem_and_count_dict = elem_counter_list(ingredients_with_keywords)\n",
    "\n",
    "elem_and_count_df = pd.DataFrame(list(elem_and_count_dict.items()), columns=['key', 'value'])"
   ]
  },
  {
   "cell_type": "markdown",
   "id": "07913d3e",
   "metadata": {},
   "source": [
    "### Next ingredient"
   ]
  },
  {
   "cell_type": "code",
   "execution_count": 101,
   "id": "2fe7c74c",
   "metadata": {},
   "outputs": [],
   "source": [
    "ingredients_with_keywords = get_all_diff_ingredients_with_keyword_df('carrot',df_61)\n",
    "\n",
    "elem_and_count_dict = elem_counter_list(ingredients_with_keywords)\n",
    "\n",
    "elem_and_count_df = pd.DataFrame(list(elem_and_count_dict.items()), columns=['key', 'value'])"
   ]
  },
  {
   "cell_type": "code",
   "execution_count": 102,
   "id": "1a529939",
   "metadata": {},
   "outputs": [],
   "source": [
    "keywords = ['carrot','carrots']\n",
    "exceptions = ['cabbage and carrot coleslaw mix','frozen peas and carrots','peas and carrots','frozen peas and carrot','frozen peas carrots and cauliflower','peas and carrots']\n",
    "df_62 = replace_df_ingredients_with_keywords(keywords, exceptions, df_61)\n",
    "\n",
    "ingredients_with_keywords = get_all_diff_ingredients_with_keyword_df('carrot',df_62)\n",
    "\n",
    "elem_and_count_dict = elem_counter_list(ingredients_with_keywords)\n",
    "\n",
    "elem_and_count_df = pd.DataFrame(list(elem_and_count_dict.items()), columns=['key', 'value'])"
   ]
  },
  {
   "cell_type": "code",
   "execution_count": 103,
   "id": "b32d4693",
   "metadata": {},
   "outputs": [],
   "source": [
    "replacement_dict = {\n",
    "    'cabbage and carrot coleslaw mix':['carrot','cabbage'],\n",
    "    'carrots':'carrot',\n",
    "    'frozen peas and carrots':['peas','carrot'],\n",
    "    'frozen peas and carrot':['peas','carrot'],\n",
    "    'peas and carrots':['peas','carrot'],\n",
    "    'frozen peas carrots and cauliflower':['carrot','cauliflower']\n",
    "\n",
    "}\n",
    "\n",
    "df_63 = replace_old_ingredients_with_new_df(replacement_dict, df_62)\n",
    "\n",
    "ingredients_with_keywords = get_all_diff_ingredients_with_keyword_df('carrot',df_63)\n",
    "\n",
    "elem_and_count_dict = elem_counter_list(ingredients_with_keywords)\n",
    "\n",
    "elem_and_count_df = pd.DataFrame(list(elem_and_count_dict.items()), columns=['key', 'value'])"
   ]
  },
  {
   "cell_type": "markdown",
   "id": "25fd0b0f",
   "metadata": {},
   "source": [
    "### Next ingredient"
   ]
  },
  {
   "cell_type": "code",
   "execution_count": 104,
   "id": "b4fe23ad",
   "metadata": {},
   "outputs": [],
   "source": [
    "ingredients_with_keywords = get_all_diff_ingredients_with_keyword_df('bacon',df_63)\n",
    "\n",
    "elem_and_count_dict = elem_counter_list(ingredients_with_keywords)\n",
    "\n",
    "elem_and_count_df = pd.DataFrame(list(elem_and_count_dict.items()), columns=['key', 'value'])"
   ]
  },
  {
   "cell_type": "code",
   "execution_count": 106,
   "id": "7c5eaffd-e057-41ea-ab3b-5d2d5163c1be",
   "metadata": {},
   "outputs": [],
   "source": [
    "keywords = ['bacon']\n",
    "exeptions = ['']\n",
    "\n",
    "df_64 = replace_df_ingredients_with_keywords(keywords, exceptions, df_63)\n",
    "\n",
    "ingredients_with_keywords = get_all_diff_ingredients_with_keyword_df('bacon',df_64)\n",
    "\n",
    "elem_and_count_dict = elem_counter_list(ingredients_with_keywords)\n",
    "\n",
    "elem_and_count_df = pd.DataFrame(list(elem_and_count_dict.items()), columns=['key', 'value'])"
   ]
  },
  {
   "cell_type": "markdown",
   "id": "6a6f0a91",
   "metadata": {},
   "source": [
    "### Next ingredient"
   ]
  },
  {
   "cell_type": "code",
   "execution_count": 110,
   "id": "c79f39b4",
   "metadata": {},
   "outputs": [],
   "source": [
    "ingredients_with_keywords = get_all_diff_ingredients_with_keyword_df('soy',df_64)\n",
    "\n",
    "elem_and_count_dict = elem_counter_list(ingredients_with_keywords)\n",
    "\n",
    "elem_and_count_df = pd.DataFrame(list(elem_and_count_dict.items()), columns=['key', 'value'])"
   ]
  },
  {
   "cell_type": "code",
   "execution_count": 111,
   "id": "e4332ead",
   "metadata": {},
   "outputs": [],
   "source": [
    "less_used_ingredients = get_elem_from_df_from_start_index(10, elem_and_count_df)\n",
    "\n",
    "df_65 = get_df_filtered_without_list_ingredients(less_used_ingredients, df_64)\n",
    "\n",
    "ingredients_with_keywords = get_all_diff_ingredients_with_keyword_df('soy',df_65)\n",
    "\n",
    "elem_and_count_dict = elem_counter_list(ingredients_with_keywords)\n",
    "\n",
    "elem_and_count_df = pd.DataFrame(list(elem_and_count_dict.items()), columns=['key', 'value'])"
   ]
  },
  {
   "cell_type": "code",
   "execution_count": 113,
   "id": "8ac6d87f",
   "metadata": {},
   "outputs": [],
   "source": [
    "keywords_to_remove = ['low', 'sodium', 'light','reduced','tamari','japanese', 'gluten-free', 'kikkoman']\n",
    "\n",
    "df_66 = remove_keywords_from_ingredients_df(keywords_to_remove, df_65)\n",
    "\n",
    "ingredients_with_keywords = get_all_diff_ingredients_with_keyword_df('soy',df_66)\n",
    "\n",
    "elem_and_count_dict = elem_counter_list(ingredients_with_keywords)\n",
    "\n",
    "elem_and_count_df = pd.DataFrame(list(elem_and_count_dict.items()), columns=['key', 'value'])\n"
   ]
  },
  {
   "cell_type": "code",
   "execution_count": 115,
   "id": "82070547",
   "metadata": {},
   "outputs": [],
   "source": [
    "replacement_dict = {\n",
    "    'soymilk':'milk',\n",
    "    'soya sauce':'soy sauce'\n",
    "}\n",
    "\n",
    "df_67 = replace_old_ingredients_with_new_df(replacement_dict, df_66)\n",
    "\n",
    "ingredients_with_keywords = get_all_diff_ingredients_with_keyword_df('soy',df_67)\n",
    "\n",
    "elem_and_count_dict = elem_counter_list(ingredients_with_keywords)\n",
    "\n",
    "elem_and_count_df = pd.DataFrame(list(elem_and_count_dict.items()), columns=['key', 'value'])"
   ]
  },
  {
   "cell_type": "markdown",
   "id": "0ac381a5",
   "metadata": {},
   "source": [
    "### Next ingredient"
   ]
  },
  {
   "cell_type": "code",
   "execution_count": 135,
   "id": "f16d800c",
   "metadata": {},
   "outputs": [],
   "source": [
    "ingredients_with_keywords = get_all_diff_ingredients_with_keyword_df('sesame',df_67)\n",
    "\n",
    "elem_and_count_dict = elem_counter_list(ingredients_with_keywords)\n",
    "\n",
    "elem_and_count_df = pd.DataFrame(list(elem_and_count_dict.items()), columns=['key', 'value'])"
   ]
  },
  {
   "cell_type": "code",
   "execution_count": 125,
   "id": "7f1fa7b5",
   "metadata": {},
   "outputs": [],
   "source": [
    "keywords = ['sesame']\n",
    "exeptions = ['']\n",
    "\n",
    "df_68 = replace_df_ingredients_with_keywords(keywords, exceptions, df_67)\n",
    "\n",
    "ingredients_with_keywords = get_all_diff_ingredients_with_keyword_df('sesame',df_68)\n",
    "\n",
    "elem_and_count_dict = elem_counter_list(ingredients_with_keywords)\n",
    "\n",
    "elem_and_count_df = pd.DataFrame(list(elem_and_count_dict.items()), columns=['key', 'value'])"
   ]
  },
  {
   "cell_type": "code",
   "execution_count": 127,
   "id": "05b8426d-59ea-4fa4-8958-91a50ffcad49",
   "metadata": {},
   "outputs": [],
   "source": [
    "replacement_dict = {\n",
    "    'sesame':'sesame oil'\n",
    "}\n",
    "\n",
    "df_69 = replace_old_ingredients_with_new_df(replacement_dict, df_68)\n",
    "\n",
    "ingredients_with_keywords = get_all_diff_ingredients_with_keyword_df('sesame',df_69)\n",
    "\n",
    "elem_and_count_dict = elem_counter_list(ingredients_with_keywords)\n",
    "\n",
    "elem_and_count_df = pd.DataFrame(list(elem_and_count_dict.items()), columns=['key', 'value'])"
   ]
  },
  {
   "cell_type": "markdown",
   "id": "e2dca7fd",
   "metadata": {},
   "source": [
    "### Next ingredient"
   ]
  },
  {
   "cell_type": "code",
   "execution_count": 139,
   "id": "7e262f13",
   "metadata": {},
   "outputs": [],
   "source": [
    "ingredients_with_keywords = get_all_diff_ingredients_with_keyword_df('potato',df_69)\n",
    "\n",
    "elem_and_count_dict = elem_counter_list(ingredients_with_keywords)\n",
    "\n",
    "elem_and_count_df = pd.DataFrame(list(elem_and_count_dict.items()), columns=['key', 'value'])"
   ]
  },
  {
   "cell_type": "code",
   "execution_count": 140,
   "id": "e7ce851e",
   "metadata": {},
   "outputs": [],
   "source": [
    "less_used_ingredients = get_elem_from_df_from_start_index(25, elem_and_count_df)\n",
    "\n",
    "df_70 = get_df_filtered_without_list_ingredients(less_used_ingredients, df_69)\n",
    "\n",
    "ingredients_with_keywords = get_all_diff_ingredients_with_keyword_df('potato',df_70)\n",
    "\n",
    "elem_and_count_dict = elem_counter_list(ingredients_with_keywords)\n",
    "\n",
    "elem_and_count_df = pd.DataFrame(list(elem_and_count_dict.items()), columns=['key', 'value'])"
   ]
  },
  {
   "cell_type": "code",
   "execution_count": 142,
   "id": "262b3a52",
   "metadata": {},
   "outputs": [],
   "source": [
    "keywords = ['potato', 'potatoes']\n",
    "exeptions = ['']\n",
    "\n",
    "df_71 = replace_df_ingredients_with_keywords(keywords, exceptions, df_70)\n",
    "\n",
    "ingredients_with_keywords = get_all_diff_ingredients_with_keyword_df('potato',df_71)\n",
    "\n",
    "elem_and_count_dict = elem_counter_list(ingredients_with_keywords)\n",
    "\n",
    "elem_and_count_df = pd.DataFrame(list(elem_and_count_dict.items()), columns=['key', 'value'])"
   ]
  },
  {
   "cell_type": "code",
   "execution_count": 144,
   "id": "f48dccb0",
   "metadata": {},
   "outputs": [],
   "source": [
    "replacement_dict = {\n",
    "    'potatoes':'potato'\n",
    "}\n",
    "\n",
    "df_72 = replace_old_ingredients_with_new_df(replacement_dict, df_71)\n",
    "\n",
    "ingredients_with_keywords = get_all_diff_ingredients_with_keyword_df('potato',df_72)\n",
    "\n",
    "elem_and_count_dict = elem_counter_list(ingredients_with_keywords)\n",
    "\n",
    "elem_and_count_df = pd.DataFrame(list(elem_and_count_dict.items()), columns=['key', 'value'])"
   ]
  },
  {
   "cell_type": "code",
   "execution_count": 145,
   "id": "3c248c64-5909-4141-bd78-b9fd70ffa08f",
   "metadata": {
    "scrolled": true
   },
   "outputs": [
    {
     "data": {
      "text/html": [
       "<div>\n",
       "<style scoped>\n",
       "    .dataframe tbody tr th:only-of-type {\n",
       "        vertical-align: middle;\n",
       "    }\n",
       "\n",
       "    .dataframe tbody tr th {\n",
       "        vertical-align: top;\n",
       "    }\n",
       "\n",
       "    .dataframe thead th {\n",
       "        text-align: right;\n",
       "    }\n",
       "</style>\n",
       "<table border=\"1\" class=\"dataframe\">\n",
       "  <thead>\n",
       "    <tr style=\"text-align: right;\">\n",
       "      <th></th>\n",
       "      <th>key</th>\n",
       "      <th>value</th>\n",
       "    </tr>\n",
       "  </thead>\n",
       "  <tbody>\n",
       "    <tr>\n",
       "      <th>0</th>\n",
       "      <td>potato</td>\n",
       "      <td>1039</td>\n",
       "    </tr>\n",
       "  </tbody>\n",
       "</table>\n",
       "</div>"
      ],
      "text/plain": [
       "      key  value\n",
       "0  potato   1039"
      ]
     },
     "execution_count": 145,
     "metadata": {},
     "output_type": "execute_result"
    }
   ],
   "source": [
    "elem_and_count_df.head(250)"
   ]
  },
  {
   "cell_type": "code",
   "execution_count": 166,
   "id": "903c367e-8793-499d-86f1-11951b3b96f4",
   "metadata": {},
   "outputs": [],
   "source": [
    "visualization_df = sorted_ingridient_counter_df(df_72)\n",
    "ingredients_to_remove = get_ingredients_after_top_n_from_ing_count_df(30,visualization_df)\n",
    "\n",
    "df_73 = get_df_filtered_without_list_ingredients(ingredients_to_remove, df_72)"
   ]
  },
  {
   "cell_type": "code",
   "execution_count": 174,
   "id": "950adf70-6482-4d97-882d-2e736ae99bc3",
   "metadata": {},
   "outputs": [],
   "source": [
    "save_df_csv(df_73,'salad_dataset_v1', \"C:/Users/yassi/Desktop/Projet/CookBotProject/CookBotRecipes/Data\")"
   ]
  },
  {
   "cell_type": "code",
   "execution_count": null,
   "id": "5a00c517-7c9d-476d-a5f1-05f94c1292d0",
   "metadata": {},
   "outputs": [],
   "source": []
  }
 ],
 "metadata": {
  "kernelspec": {
   "display_name": "Python 3 (ipykernel)",
   "language": "python",
   "name": "python3"
  },
  "language_info": {
   "codemirror_mode": {
    "name": "ipython",
    "version": 3
   },
   "file_extension": ".py",
   "mimetype": "text/x-python",
   "name": "python",
   "nbconvert_exporter": "python",
   "pygments_lexer": "ipython3",
   "version": "3.10.16"
  }
 },
 "nbformat": 4,
 "nbformat_minor": 5
}
