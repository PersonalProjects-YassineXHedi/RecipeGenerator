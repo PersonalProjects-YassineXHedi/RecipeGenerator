{
 "cells": [
  {
   "cell_type": "code",
   "execution_count": 12,
   "id": "844fb91a-d634-46af-9737-1b94a533ae3d",
   "metadata": {},
   "outputs": [
    {
     "name": "stdout",
     "output_type": "stream",
     "text": [
      "The autoreload extension is already loaded. To reload it, use:\n",
      "  %reload_ext autoreload\n"
     ]
    }
   ],
   "source": [
    "%load_ext autoreload\n",
    "%autoreload 2\n",
    "\n",
    "%run salads_dataset_creation.py\n",
    "%run dataset_analyzer.py\n",
    "%run dataset_utils.py\n"
   ]
  },
  {
   "cell_type": "markdown",
   "id": "1b08e485",
   "metadata": {},
   "source": [
    "### To have the oldest version of your classes run this cell"
   ]
  },
  {
   "cell_type": "code",
   "execution_count": 13,
   "id": "75ee9d5a-cfc6-44e9-89b7-ab983516074b",
   "metadata": {},
   "outputs": [],
   "source": [
    "%reload_ext autoreload"
   ]
  },
  {
   "cell_type": "markdown",
   "id": "953b3691",
   "metadata": {},
   "source": [
    "### To have the oldest version of your classes run this cell"
   ]
  },
  {
   "cell_type": "code",
   "execution_count": 14,
   "id": "232eeb0e-861a-464f-a358-f6b785f30bde",
   "metadata": {},
   "outputs": [],
   "source": [
    "import pandas as pd\n",
    "\n",
    "pd.set_option('display.max_rows', None)  # Show all rows\n",
    "pd.set_option('display.max_columns', None) \n",
    "\n",
    "DATA_PATH_HEDI = \"C:/Users/hboua/GitRepository\"\n",
    "DATA_PATH_YAS = \"C:/Users/yassi/Desktop/Projet/CookBotProject/CookBotRecipes/Data\"\n",
    "column_list = ['name', 'tags', 'description', 'ingredients']\n",
    "\n",
    "\n",
    "df = create_salad_df_from_initial_df(DATA_PATH_YAS,column_list)"
   ]
  },
  {
   "cell_type": "markdown",
   "id": "6bc79190",
   "metadata": {},
   "source": [
    "### See all the words in the ingredients of the Dataset"
   ]
  },
  {
   "cell_type": "code",
   "execution_count": 15,
   "id": "6e856e04-7185-4cda-a858-d59cfeca784d",
   "metadata": {},
   "outputs": [],
   "source": [
    "all_words = get_all_words_in_ingredients_df(df)\n",
    "\n",
    "count_dict = elem_counter_list(all_words)\n",
    "\n",
    "count_df = pd.DataFrame(list(count_dict.items()), columns=['key', 'value'])"
   ]
  },
  {
   "cell_type": "markdown",
   "id": "d0457252",
   "metadata": {},
   "source": [
    "### See all the ingredients with a specific keyword \n",
    "Example: pepper"
   ]
  },
  {
   "cell_type": "code",
   "execution_count": 16,
   "id": "0d4f1c2c-c866-4294-90c2-816b1527d776",
   "metadata": {},
   "outputs": [],
   "source": [
    "ingredients_with_keywords = get_all_diff_ingredients_with_keyword_df('pepper',df)\n",
    "\n",
    "elem_and_count_dict = elem_counter_list(ingredients_with_keywords)\n",
    "\n",
    "elem_and_count_df = pd.DataFrame(list(elem_and_count_dict.items()), columns=['key', 'value'])"
   ]
  },
  {
   "cell_type": "markdown",
   "id": "a6972eaa",
   "metadata": {},
   "source": [
    "### Filter the dataset and see it"
   ]
  },
  {
   "cell_type": "markdown",
   "id": "5db07b64",
   "metadata": {},
   "source": [
    "#### Remove all the descriptive keywords"
   ]
  },
  {
   "cell_type": "code",
   "execution_count": 17,
   "id": "5868530b-7b71-42f7-b8ee-2931c654c402",
   "metadata": {},
   "outputs": [],
   "source": [
    "keywords_to_remove = ['fresh', 'crushed', 'ground','cracked','sweet','hot', 'freshly', 'course' ,'roasted', 'coarse','red','kosher','dry']\n",
    "\n",
    "df_1 = remove_keywords_from_ingredients_df(keywords_to_remove, df)\n",
    "\n",
    "ingredients_with_keywords = get_all_diff_ingredients_with_keyword_df('pepper',df_1)\n",
    "\n",
    "elem_and_count_dict = elem_counter_list(ingredients_with_keywords)\n",
    "\n",
    "elem_and_count_df = pd.DataFrame(list(elem_and_count_dict.items()), columns=['key', 'value'])\n"
   ]
  },
  {
   "cell_type": "markdown",
   "id": "f3c43c17",
   "metadata": {},
   "source": [
    "#### See again all the words that compose all the ingredients "
   ]
  },
  {
   "cell_type": "code",
   "execution_count": 18,
   "id": "9a85c45c",
   "metadata": {},
   "outputs": [],
   "source": [
    "all_words = get_all_words_in_ingredients_df(df_1)\n",
    "\n",
    "count_dict = elem_counter_list(all_words)\n",
    "\n",
    "count_df = pd.DataFrame(list(count_dict.items()), columns=['key', 'value'])"
   ]
  },
  {
   "cell_type": "markdown",
   "id": "f6f3e763",
   "metadata": {},
   "source": [
    "#### Change specific ingredients with new equivalent \n",
    "The old ingredients are the key of the dict and the new are the values"
   ]
  },
  {
   "cell_type": "code",
   "execution_count": 19,
   "id": "d7fecd0f-ce5c-453c-9aa0-72da8e74737d",
   "metadata": {},
   "outputs": [],
   "source": [
    "\n",
    "replace_ingredients = {\n",
    "    'salt and pepper':['black pepper', 'salt'],\n",
    "    'salt and black pepper':['black pepper', 'salt'],\n",
    "    'pepper': 'black pepper',\n",
    "    'salt & freshly ground black pepper': ['black pepper', 'salt'],\n",
    "    'lime':'lemon',\n",
    "    'kosher salt':'salt',\n",
    "    'green pepper':'bell pepper',\n",
    "    'red pepper':'bell pepper',\n",
    "    'white pepper':'pepper',\n",
    "    'red bell peppers':'bell pepper',\n",
    "    'red pepper':'bell pepper',\n",
    "    'yellow pepper': 'bell pepper',\n",
    "    'red peppers': 'bell pepper',\n",
    "    'red bell pepper':'bell pepper',\n",
    "    'salt & black pepper':['black pepper', 'salt'],\n",
    "    'salt & pepper' : ['black pepper', 'salt'],\n",
    "    'green bell pepper':'bell pepper',\n",
    "    'yellow bell pepper':'bell pepper',\n",
    "    'cayenne pepper':'bell pepper',\n",
    "    'jalapeno pepper':'bell pepper',\n",
    "    'green peppers':'bell pepper',\n",
    "    'bell peppers':'bell pepper',\n",
    "    'green bell peppers':'bell pepper',\n",
    "    'lemon pepper':['lemon','black pepper'],\n",
    "    'orange bell pepper': 'bell pepper',\n",
    "    'jalapeno peppers':'chili pepper',\n",
    "    'yellow peppers': 'bell pepper',\n",
    "    'seasoned pepper':'black pepper',\n",
    "    'lemon pepper seasoning':['lemon','black pepper']\n",
    "    \n",
    "}\n",
    "df_2 = replace_old_ingredients_with_new_df(replace_ingredients, df_1)\n",
    "\n",
    "ingredients_with_keywords = get_all_diff_ingredients_with_keyword_df('pepper',df_2)\n",
    "\n",
    "elem_and_count_dict = elem_counter_list(ingredients_with_keywords)\n",
    "\n",
    "elem_and_count_df = pd.DataFrame(list(elem_and_count_dict.items()), columns=['key', 'value'])"
   ]
  },
  {
   "cell_type": "markdown",
   "id": "6f78bcf6",
   "metadata": {},
   "source": [
    "#### After a filtering for the ingredients containing pepper "
   ]
  },
  {
   "cell_type": "markdown",
   "id": "d932929c",
   "metadata": {},
   "source": [
    "I decided to only take the top five.\n",
    "Then I will check for the ingredients that I will remove from all the ingredients containing a pepper keyword."
   ]
  },
  {
   "cell_type": "markdown",
   "id": "27207520",
   "metadata": {},
   "source": [
    "#### Get the list of all the ingredients that we don't need anymore"
   ]
  },
  {
   "cell_type": "code",
   "execution_count": 20,
   "id": "ccbb5dd9",
   "metadata": {},
   "outputs": [],
   "source": [
    "pepper_ingredient_to_use = [ 'black pepper','bell pepper', 'pepper flakes', 'pepper sauce','chili pepper', 'pepperoni' ]\n",
    "\n",
    "pepper_ingredients_to_ignore = remove_elem_from_list(pepper_ingredient_to_use, elem_and_count_dict.keys())"
   ]
  },
  {
   "cell_type": "markdown",
   "id": "088ecb6a",
   "metadata": {},
   "source": [
    "#### Get a new df version with only recipes (rows) that does't contain the ingredient removed"
   ]
  },
  {
   "cell_type": "code",
   "execution_count": 21,
   "id": "26dd67f0-1096-4bac-917e-bc1db8b90e6c",
   "metadata": {},
   "outputs": [],
   "source": [
    "df_3 = get_df_filtered_without_list_ingredients(pepper_ingredients_to_ignore, df_2)\n",
    "\n",
    "ingredients_with_keywords = get_all_diff_ingredients_with_keyword_df('pepper',df_3)\n",
    "\n",
    "elem_and_count_dict = elem_counter_list(ingredients_with_keywords)\n",
    "\n",
    "elem_and_count_df = pd.DataFrame(list(elem_and_count_dict.items()), columns=['key', 'value'])"
   ]
  },
  {
   "cell_type": "markdown",
   "id": "7df9409c",
   "metadata": {},
   "source": [
    "### It works, Now lets do it to the other ingredients"
   ]
  },
  {
   "cell_type": "markdown",
   "id": "4d3f7be0",
   "metadata": {},
   "source": [
    "Now we continue using the df that I just generated and filter next ingredients."
   ]
  },
  {
   "cell_type": "markdown",
   "id": "cd8ac071",
   "metadata": {},
   "source": [
    "### Second ingredient (Oil)"
   ]
  },
  {
   "cell_type": "markdown",
   "id": "ab5f5fa5",
   "metadata": {},
   "source": [
    "Let's check the most used words"
   ]
  },
  {
   "cell_type": "code",
   "execution_count": 22,
   "id": "0b3c011a",
   "metadata": {},
   "outputs": [],
   "source": [
    "all_words = get_all_words_in_ingredients_df(df_3)\n",
    "\n",
    "count_dict = elem_counter_list(all_words)\n",
    "\n",
    "count_df = pd.DataFrame(list(count_dict.items()), columns=['key', 'value'])"
   ]
  },
  {
   "cell_type": "markdown",
   "id": "0af7ff3a",
   "metadata": {},
   "source": [
    "#### See all the ingredients with a keyword (oil)"
   ]
  },
  {
   "cell_type": "code",
   "execution_count": 23,
   "id": "596be1ae",
   "metadata": {},
   "outputs": [],
   "source": [
    "ingredients_with_keywords = get_all_diff_ingredients_with_keyword_df('oil',df_3)\n",
    "\n",
    "elem_and_count_dict = elem_counter_list(ingredients_with_keywords)\n",
    "\n",
    "elem_and_count_df = pd.DataFrame(list(elem_and_count_dict.items()), columns=['key', 'value'])"
   ]
  },
  {
   "cell_type": "markdown",
   "id": "dbb0a510",
   "metadata": {},
   "source": [
    "#### Start removing the less used oil ingredients "
   ]
  },
  {
   "cell_type": "code",
   "execution_count": 24,
   "id": "bdac8d0e",
   "metadata": {},
   "outputs": [],
   "source": [
    "less_used_ingredients = get_elem_from_df_from_start_index(45, elem_and_count_df)\n",
    "\n",
    "df_4 = get_df_filtered_without_list_ingredients(less_used_ingredients, df_3)\n",
    "\n",
    "ingredients_with_keywords = get_all_diff_ingredients_with_keyword_df('oil',df_4)\n",
    "\n",
    "elem_and_count_dict = elem_counter_list(ingredients_with_keywords)\n",
    "\n",
    "elem_and_count_df = pd.DataFrame(list(elem_and_count_dict.items()), columns=['key', 'value'])"
   ]
  },
  {
   "cell_type": "markdown",
   "id": "317a48b7",
   "metadata": {},
   "source": [
    "#### Start removing some adjectives"
   ]
  },
  {
   "cell_type": "code",
   "execution_count": 25,
   "id": "e92345e8",
   "metadata": {},
   "outputs": [],
   "source": [
    "adjectives_remove = ['toasted', 'dark', 'oriental']\n",
    "\n",
    "df_5 = remove_keywords_from_ingredients_df(adjectives_remove, df_4)\n",
    "\n",
    "ingredients_with_keywords = get_all_diff_ingredients_with_keyword_df('oil',df_5)\n",
    "\n",
    "elem_and_count_dict = elem_counter_list(ingredients_with_keywords)\n",
    "\n",
    "elem_and_count_df = pd.DataFrame(list(elem_and_count_dict.items()), columns=['key', 'value'])"
   ]
  },
  {
   "cell_type": "markdown",
   "id": "d3371180",
   "metadata": {},
   "source": [
    "#### Start filtering by keywords"
   ]
  },
  {
   "cell_type": "markdown",
   "id": "41532394",
   "metadata": {},
   "source": [
    "This Time i willl filter with the keyword oil and add some exceptions like sesame oil"
   ]
  },
  {
   "cell_type": "code",
   "execution_count": 26,
   "id": "ece3e2d0",
   "metadata": {},
   "outputs": [],
   "source": [
    "exceptions = ['sesame oil','sun-dried tomato packed in oil','sun-dried tomatoes packed in oil','tuna in olive oil', 'sesame seed oil','tuna in vegetable oil','tuna packed in oil','oil-cured black olive','anchovies packed in oil','oil-cured olives','oil-and-vinegar dressing','olive oil and vinegar dressing']\n",
    "keywords = ['oil']\n",
    "df_6 = replace_df_ingredients_with_keywords(keywords, exceptions, df_5)\n",
    "\n",
    "ingredients_with_keywords = get_all_diff_ingredients_with_keyword_df('oil',df_6)\n",
    "\n",
    "elem_and_count_dict = elem_counter_list(ingredients_with_keywords)\n",
    "\n",
    "elem_and_count_df = pd.DataFrame(list(elem_and_count_dict.items()), columns=['key', 'value'])"
   ]
  },
  {
   "cell_type": "markdown",
   "id": "239d159a",
   "metadata": {},
   "source": [
    "#### Now time to replace some specific ingredients"
   ]
  },
  {
   "cell_type": "code",
   "execution_count": 27,
   "id": "0f1de094",
   "metadata": {},
   "outputs": [],
   "source": [
    "replacement_dict = {\n",
    "    'sesame seed oil':'sesame oil',\n",
    "    'tuna in vegetable oil':'tuna',\n",
    "    'tuna in olive oil':'tuna',\n",
    "    'sun-dried tomato packed in oil':'dried tomato',\n",
    "    'sun-dried tomatoes packed in oil':'dried tomato',\n",
    "    'oil-cured black olive':'olive',\n",
    "    'tuna packed in oil':'tuna',\n",
    "    'anchovies packed in oil':'anchovies',\n",
    "    'oil-and-vinegar dressing':['oil','vinegar'],\n",
    "    'oil-cured olives':'olive',\n",
    "    'olive oil and vinegar dressing':['oil','vinegar']\n",
    "}\n",
    "\n",
    "df_7 = replace_old_ingredients_with_new_df(replacement_dict, df_6)\n",
    "\n",
    "ingredients_with_keywords = get_all_diff_ingredients_with_keyword_df('oil',df_7)\n",
    "\n",
    "elem_and_count_dict = elem_counter_list(ingredients_with_keywords)\n",
    "\n",
    "elem_and_count_df = pd.DataFrame(list(elem_and_count_dict.items()), columns=['key', 'value'])"
   ]
  },
  {
   "cell_type": "markdown",
   "id": "6f680859",
   "metadata": {},
   "source": [
    "### Next Ingredient"
   ]
  },
  {
   "cell_type": "markdown",
   "id": "deda40c2",
   "metadata": {},
   "source": [
    "It will be vinegar"
   ]
  },
  {
   "cell_type": "code",
   "execution_count": 28,
   "id": "851b0129",
   "metadata": {},
   "outputs": [],
   "source": [
    "ingredients_with_keywords = get_all_diff_ingredients_with_keyword_df('vinegar',df_7)\n",
    "\n",
    "elem_and_count_dict = elem_counter_list(ingredients_with_keywords)\n",
    "\n",
    "elem_and_count_df = pd.DataFrame(list(elem_and_count_dict.items()), columns=['key', 'value'])"
   ]
  },
  {
   "cell_type": "markdown",
   "id": "500abead",
   "metadata": {},
   "source": [
    "#### Replace ingredients with the keyword vinegar"
   ]
  },
  {
   "cell_type": "code",
   "execution_count": 29,
   "id": "dfbc4df0-7b72-4c6b-b3c9-f30c819a0048",
   "metadata": {},
   "outputs": [],
   "source": [
    "keywords = ['vinegar']\n",
    "exceptions = []\n",
    "df_7 = replace_df_ingredients_with_keywords(keywords, exceptions, df_6)\n",
    "\n",
    "ingredients_with_keywords = get_all_diff_ingredients_with_keyword_df('vinegar',df_7)\n",
    "\n",
    "elem_and_count_dict = elem_counter_list(ingredients_with_keywords)\n",
    "\n",
    "elem_and_count_df = pd.DataFrame(list(elem_and_count_dict.items()), columns=['key', 'value'])\n"
   ]
  },
  {
   "cell_type": "markdown",
   "id": "2c1c78d3",
   "metadata": {},
   "source": [
    "### Let's do an other ingredient"
   ]
  },
  {
   "cell_type": "markdown",
   "id": "9d1ce912",
   "metadata": {},
   "source": [
    "Olive"
   ]
  },
  {
   "cell_type": "code",
   "execution_count": 30,
   "id": "467878b5-0bc7-457e-bac7-a54d41f3f948",
   "metadata": {},
   "outputs": [],
   "source": [
    "ingredients_with_keywords = get_all_diff_ingredients_with_keyword_df('olive',df_7)\n",
    "\n",
    "elem_and_count_dict = elem_counter_list(ingredients_with_keywords)\n",
    "\n",
    "elem_and_count_df = pd.DataFrame(list(elem_and_count_dict.items()), columns=['key', 'value'])"
   ]
  },
  {
   "cell_type": "markdown",
   "id": "5d88195e",
   "metadata": {},
   "source": [
    "#### Let's filter now "
   ]
  },
  {
   "cell_type": "code",
   "execution_count": 31,
   "id": "474d1685-7749-4ec6-a520-6ebd7b1480db",
   "metadata": {},
   "outputs": [],
   "source": [
    "keywords = ['olive','olives']\n",
    "exceptions = ['green olive tapenade']\n",
    "df_8 = replace_df_ingredients_with_keywords(keywords, exceptions, df_7)\n",
    "\n",
    "ingredients_with_keywords = get_all_diff_ingredients_with_keyword_df('olive',df_8)\n",
    "\n",
    "elem_and_count_dict = elem_counter_list(ingredients_with_keywords)\n",
    "\n",
    "elem_and_count_df = pd.DataFrame(list(elem_and_count_dict.items()), columns=['key', 'value'])"
   ]
  },
  {
   "cell_type": "markdown",
   "id": "75845821",
   "metadata": {},
   "source": [
    "#### Let's update some ingredients"
   ]
  },
  {
   "cell_type": "code",
   "execution_count": 32,
   "id": "d336ddcc-b9c8-4d0f-8151-aa7136052e8a",
   "metadata": {},
   "outputs": [],
   "source": [
    "replacement_dict = {\n",
    "    'olives':'olive',\n",
    "    'green olive tapenade':'olive tapenade'\n",
    "}\n",
    "\n",
    "df_9 = replace_old_ingredients_with_new_df(replacement_dict, df_8)\n",
    "\n",
    "ingredients_with_keywords = get_all_diff_ingredients_with_keyword_df('olive',df_9)\n",
    "\n",
    "elem_and_count_dict = elem_counter_list(ingredients_with_keywords)\n",
    "\n",
    "elem_and_count_df = pd.DataFrame(list(elem_and_count_dict.items()), columns=['key', 'value'])"
   ]
  },
  {
   "cell_type": "markdown",
   "id": "9a69c2d7",
   "metadata": {},
   "source": [
    "### Next ingredient (Onion)"
   ]
  },
  {
   "cell_type": "code",
   "execution_count": 33,
   "id": "e45fd7c0-f625-4b49-a165-d94824063128",
   "metadata": {},
   "outputs": [],
   "source": [
    "ingredients_with_keywords = get_all_diff_ingredients_with_keyword_df('onion',df_9)\n",
    "\n",
    "elem_and_count_dict = elem_counter_list(ingredients_with_keywords)\n",
    "\n",
    "elem_and_count_df = pd.DataFrame(list(elem_and_count_dict.items()), columns=['key', 'value'])"
   ]
  },
  {
   "cell_type": "markdown",
   "id": "ab7ba728",
   "metadata": {},
   "source": [
    "#### Remove less used ingredients "
   ]
  },
  {
   "cell_type": "code",
   "execution_count": 34,
   "id": "e186be9f",
   "metadata": {},
   "outputs": [],
   "source": [
    "less_used_ingredients = get_elem_from_df_from_start_index(36, elem_and_count_df)\n",
    "\n",
    "df_10 = get_df_filtered_without_list_ingredients(less_used_ingredients, df_9)\n",
    "\n",
    "ingredients_with_keywords = get_all_diff_ingredients_with_keyword_df('onion',df_10)\n",
    "\n",
    "elem_and_count_dict = elem_counter_list(ingredients_with_keywords)\n",
    "\n",
    "elem_and_count_df = pd.DataFrame(list(elem_and_count_dict.items()), columns=['key', 'value'])"
   ]
  },
  {
   "cell_type": "markdown",
   "id": "b926a12f",
   "metadata": {},
   "source": [
    "#### Replace with keywords "
   ]
  },
  {
   "cell_type": "code",
   "execution_count": 35,
   "id": "36db97a4",
   "metadata": {},
   "outputs": [],
   "source": [
    "keywords = ['onion', 'onions']\n",
    "exceptions = ['onion powder','onion salt','simply potatoes diced potatoes with onion']\n",
    "\n",
    "df_11 = replace_df_ingredients_with_keywords(keywords, exceptions, df_10)\n",
    "\n",
    "ingredients_with_keywords = get_all_diff_ingredients_with_keyword_df('onion',df_11)\n",
    "\n",
    "elem_and_count_dict = elem_counter_list(ingredients_with_keywords)\n",
    "\n",
    "elem_and_count_df = pd.DataFrame(list(elem_and_count_dict.items()), columns=['key', 'value'])"
   ]
  },
  {
   "cell_type": "code",
   "execution_count": 36,
   "id": "c35ead37",
   "metadata": {},
   "outputs": [],
   "source": [
    "replacement_dict = {\n",
    "    'onions':'onion',\n",
    "    'dried onion flakes':'onion powder',\n",
    "    'onion salt':'salt',\n",
    "    'simply potatoes diced potatoes with onion':['potato','onion']\n",
    "}\n",
    "\n",
    "\n",
    "df_12 = replace_old_ingredients_with_new_df(replacement_dict, df_11)\n",
    "\n",
    "ingredients_with_keywords = get_all_diff_ingredients_with_keyword_df('onion',df_12)\n",
    "\n",
    "elem_and_count_dict = elem_counter_list(ingredients_with_keywords)\n",
    "\n",
    "elem_and_count_df = pd.DataFrame(list(elem_and_count_dict.items()), columns=['key', 'value'])"
   ]
  },
  {
   "cell_type": "markdown",
   "id": "30b7f4b4",
   "metadata": {},
   "source": [
    "### Next ingredient"
   ]
  },
  {
   "cell_type": "markdown",
   "id": "5f6e44b6",
   "metadata": {},
   "source": [
    "Lets see all the words left"
   ]
  },
  {
   "cell_type": "code",
   "execution_count": 37,
   "id": "d19e0879",
   "metadata": {},
   "outputs": [],
   "source": [
    "all_words = get_all_words_in_ingredients_df(df_12)\n",
    "\n",
    "count_dict = elem_counter_list(all_words)\n",
    "\n",
    "count_df = pd.DataFrame(list(count_dict.items()), columns=['key', 'value'])"
   ]
  },
  {
   "cell_type": "markdown",
   "id": "d3ee5560",
   "metadata": {},
   "source": [
    "#### Keyword garlic"
   ]
  },
  {
   "cell_type": "code",
   "execution_count": 38,
   "id": "f8c662ab-d180-4c29-80d0-283797e538ea",
   "metadata": {},
   "outputs": [],
   "source": [
    "ingredients_with_keywords = get_all_diff_ingredients_with_keyword_df('garlic',df_12)\n",
    "\n",
    "elem_and_count_dict = elem_counter_list(ingredients_with_keywords)\n",
    "\n",
    "elem_and_count_df = pd.DataFrame(list(elem_and_count_dict.items()), columns=['key', 'value'])"
   ]
  },
  {
   "cell_type": "code",
   "execution_count": 39,
   "id": "5a341511",
   "metadata": {},
   "outputs": [],
   "source": [
    "less_used_ingredients = get_elem_from_df_from_start_index(8, elem_and_count_df)\n",
    "\n",
    "df_13 = get_df_filtered_without_list_ingredients(less_used_ingredients, df_12)\n",
    "\n",
    "ingredients_with_keywords = get_all_diff_ingredients_with_keyword_df('garlic',df_13)\n",
    "\n",
    "elem_and_count_dict = elem_counter_list(ingredients_with_keywords)\n",
    "\n",
    "elem_and_count_df = pd.DataFrame(list(elem_and_count_dict.items()), columns=['key', 'value'])"
   ]
  },
  {
   "cell_type": "code",
   "execution_count": 40,
   "id": "c3efc0e1",
   "metadata": {},
   "outputs": [],
   "source": [
    "keywords = ['garlic']\n",
    "exceptions = ['garlic salt','garlic-flavored croutons']\n",
    "\n",
    "df_14 = replace_df_ingredients_with_keywords(keywords, exceptions, df_13)\n",
    "\n",
    "ingredients_with_keywords = get_all_diff_ingredients_with_keyword_df('garlic',df_14)\n",
    "\n",
    "elem_and_count_dict = elem_counter_list(ingredients_with_keywords)\n",
    "\n",
    "elem_and_count_df = pd.DataFrame(list(elem_and_count_dict.items()), columns=['key', 'value'])"
   ]
  },
  {
   "cell_type": "code",
   "execution_count": 41,
   "id": "75b65929",
   "metadata": {},
   "outputs": [],
   "source": [
    "replacement_dict = {\n",
    "    'garlic salt':['garlic','salt']\n",
    "}\n",
    "\n",
    "\n",
    "df_15 = replace_old_ingredients_with_new_df(replacement_dict, df_14)\n",
    "\n",
    "ingredients_with_keywords = get_all_diff_ingredients_with_keyword_df('garlic',df_15)\n",
    "\n",
    "elem_and_count_dict = elem_counter_list(ingredients_with_keywords)\n",
    "\n",
    "elem_and_count_df = pd.DataFrame(list(elem_and_count_dict.items()), columns=['key', 'value'])"
   ]
  },
  {
   "cell_type": "markdown",
   "id": "fa074ce2",
   "metadata": {},
   "source": [
    "### Next Ingredient "
   ]
  },
  {
   "cell_type": "markdown",
   "id": "0237ac96",
   "metadata": {},
   "source": [
    "Sugar"
   ]
  },
  {
   "cell_type": "code",
   "execution_count": null,
   "id": "5948cb66-98dd-49a1-aec8-bbc65d5f433b",
   "metadata": {},
   "outputs": [],
   "source": [
    "all_words = get_all_words_in_ingredients_df(df_15)\n",
    "\n",
    "count_dict = elem_counter_list(all_words)\n",
    "\n",
    "count_df = pd.DataFrame(list(count_dict.items()), columns=['key', 'value'])\n"
   ]
  },
  {
   "cell_type": "code",
   "execution_count": null,
   "id": "4e68a6f4",
   "metadata": {},
   "outputs": [],
   "source": [
    "ingredients_with_keywords = get_all_diff_ingredients_with_keyword_df('sugar',df_15)\n",
    "\n",
    "elem_and_count_dict = elem_counter_list(ingredients_with_keywords)\n",
    "\n",
    "elem_and_count_df = pd.DataFrame(list(elem_and_count_dict.items()), columns=['key', 'value'])"
   ]
  },
  {
   "cell_type": "code",
   "execution_count": 48,
   "id": "40aa2321",
   "metadata": {},
   "outputs": [],
   "source": [
    "less_used_ingredients = get_elem_from_df_from_start_index(42, elem_and_count_df)\n",
    "\n",
    "df_16 = get_df_filtered_without_list_ingredients(less_used_ingredients, df_15)\n",
    "\n",
    "ingredients_with_keywords = get_all_diff_ingredients_with_keyword_df('sugar',df_16)\n",
    "\n",
    "elem_and_count_dict = elem_counter_list(ingredients_with_keywords)\n",
    "\n",
    "elem_and_count_df = pd.DataFrame(list(elem_and_count_dict.items()), columns=['key', 'value'])"
   ]
  },
  {
   "cell_type": "code",
   "execution_count": 54,
   "id": "50969fe1",
   "metadata": {},
   "outputs": [],
   "source": [
    "adjectives_to_remove = ['sugar-free','no-sugar-added','no-sugar-added','fat-free','non-fat']\n",
    "\n",
    "df_17 = remove_keywords_from_ingredients_df(adjectives_remove, df_16)\n",
    "\n",
    "ingredients_with_keywords = get_all_diff_ingredients_with_keyword_df('sugar',df_17)\n",
    "\n",
    "elem_and_count_dict = elem_counter_list(ingredients_with_keywords)\n",
    "\n",
    "elem_and_count_df = pd.DataFrame(list(elem_and_count_dict.items()), columns=['key', 'value'])"
   ]
  },
  {
   "cell_type": "code",
   "execution_count": null,
   "id": "7c16c223",
   "metadata": {},
   "outputs": [],
   "source": [
    "keywords = ['sugar']\n",
    "exceptions = ['sugar snap pea','sugar snap peas','frozen sugar snap peas','sugar free pistachio pudding mix']\n",
    "\n",
    "\n",
    "df_18 = replace_df_ingredients_with_keywords(keywords, exceptions, df_17)\n",
    "\n",
    "ingredients_with_keywords = get_all_diff_ingredients_with_keyword_df('sugar',df_18)\n",
    "\n",
    "elem_and_count_dict = elem_counter_list(ingredients_with_keywords)\n",
    "\n",
    "elem_and_count_df = pd.DataFrame(list(elem_and_count_dict.items()), columns=['key', 'value'])\n"
   ]
  },
  {
   "cell_type": "code",
   "execution_count": null,
   "id": "b6fd4239",
   "metadata": {},
   "outputs": [],
   "source": [
    "replacement_dict = {\n",
    "    'sugar snap peas':'sugar snap pea',\n",
    "    'frozen sugar snap peas':'sugar snap pea',\n",
    "    'sugar free pistachio pudding mix':'pistachio pudding mix',\n",
    "    'sugar-and-spice nuts':'nuts'\n",
    "}\n",
    "\n",
    "\n",
    "df_19 = replace_old_ingredients_with_new_df(replacement_dict, df_18)\n",
    "\n",
    "ingredients_with_keywords = get_all_diff_ingredients_with_keyword_df('sugar',df_19)\n",
    "\n",
    "elem_and_count_dict = elem_counter_list(ingredients_with_keywords)\n",
    "\n",
    "elem_and_count_df = pd.DataFrame(list(elem_and_count_dict.items()), columns=['key', 'value'])\n"
   ]
  },
  {
   "cell_type": "markdown",
   "id": "ce0c0cef",
   "metadata": {},
   "source": [
    "### Next ingredient"
   ]
  },
  {
   "cell_type": "markdown",
   "id": "ee7177fd",
   "metadata": {},
   "source": [
    "Lemon"
   ]
  },
  {
   "cell_type": "code",
   "execution_count": 58,
   "id": "d25a33b8-6a41-4ed8-87ab-5cd79dc3dd02",
   "metadata": {},
   "outputs": [],
   "source": [
    "all_words = get_all_words_in_ingredients_df(df_15)\n",
    "\n",
    "count_dict = elem_counter_list(all_words)\n",
    "\n",
    "count_df = pd.DataFrame(list(count_dict.items()), columns=['key', 'value'])"
   ]
  },
  {
   "cell_type": "code",
   "execution_count": 60,
   "id": "1f2de9d3",
   "metadata": {},
   "outputs": [
    {
     "data": {
      "text/html": [
       "<div>\n",
       "<style scoped>\n",
       "    .dataframe tbody tr th:only-of-type {\n",
       "        vertical-align: middle;\n",
       "    }\n",
       "\n",
       "    .dataframe tbody tr th {\n",
       "        vertical-align: top;\n",
       "    }\n",
       "\n",
       "    .dataframe thead th {\n",
       "        text-align: right;\n",
       "    }\n",
       "</style>\n",
       "<table border=\"1\" class=\"dataframe\">\n",
       "  <thead>\n",
       "    <tr style=\"text-align: right;\">\n",
       "      <th></th>\n",
       "      <th>key</th>\n",
       "      <th>value</th>\n",
       "    </tr>\n",
       "  </thead>\n",
       "  <tbody>\n",
       "    <tr>\n",
       "      <th>0</th>\n",
       "      <td>lemon juice</td>\n",
       "      <td>2991</td>\n",
       "    </tr>\n",
       "    <tr>\n",
       "      <th>1</th>\n",
       "      <td>lemon</td>\n",
       "      <td>436</td>\n",
       "    </tr>\n",
       "    <tr>\n",
       "      <th>2</th>\n",
       "      <td>lemon, juice of</td>\n",
       "      <td>300</td>\n",
       "    </tr>\n",
       "    <tr>\n",
       "      <th>3</th>\n",
       "      <td>lemon zest</td>\n",
       "      <td>148</td>\n",
       "    </tr>\n",
       "    <tr>\n",
       "      <th>4</th>\n",
       "      <td>lemon, zest of</td>\n",
       "      <td>71</td>\n",
       "    </tr>\n",
       "    <tr>\n",
       "      <th>5</th>\n",
       "      <td>lemons</td>\n",
       "      <td>61</td>\n",
       "    </tr>\n",
       "    <tr>\n",
       "      <th>6</th>\n",
       "      <td>lemons, juice of</td>\n",
       "      <td>57</td>\n",
       "    </tr>\n",
       "    <tr>\n",
       "      <th>7</th>\n",
       "      <td>lemon rind</td>\n",
       "      <td>55</td>\n",
       "    </tr>\n",
       "    <tr>\n",
       "      <th>8</th>\n",
       "      <td>lemon jell-o gelatin</td>\n",
       "      <td>50</td>\n",
       "    </tr>\n",
       "    <tr>\n",
       "      <th>9</th>\n",
       "      <td>lemon peel</td>\n",
       "      <td>47</td>\n",
       "    </tr>\n",
       "    <tr>\n",
       "      <th>10</th>\n",
       "      <td>lemon, juice and zest of</td>\n",
       "      <td>34</td>\n",
       "    </tr>\n",
       "    <tr>\n",
       "      <th>11</th>\n",
       "      <td>lemon wedge</td>\n",
       "      <td>29</td>\n",
       "    </tr>\n",
       "    <tr>\n",
       "      <th>12</th>\n",
       "      <td>lemongrass</td>\n",
       "      <td>27</td>\n",
       "    </tr>\n",
       "    <tr>\n",
       "      <th>13</th>\n",
       "      <td>lemon, rind of</td>\n",
       "      <td>22</td>\n",
       "    </tr>\n",
       "    <tr>\n",
       "      <th>14</th>\n",
       "      <td>lemon gelatin</td>\n",
       "      <td>17</td>\n",
       "    </tr>\n",
       "    <tr>\n",
       "      <th>15</th>\n",
       "      <td>lemon yogurt</td>\n",
       "      <td>11</td>\n",
       "    </tr>\n",
       "    <tr>\n",
       "      <th>16</th>\n",
       "      <td>lemon wedges</td>\n",
       "      <td>10</td>\n",
       "    </tr>\n",
       "    <tr>\n",
       "      <th>17</th>\n",
       "      <td>lemon slice</td>\n",
       "      <td>9</td>\n",
       "    </tr>\n",
       "    <tr>\n",
       "      <th>18</th>\n",
       "      <td>instant lemon pudding</td>\n",
       "      <td>7</td>\n",
       "    </tr>\n",
       "    <tr>\n",
       "      <th>19</th>\n",
       "      <td>preserved lemon</td>\n",
       "      <td>7</td>\n",
       "    </tr>\n",
       "    <tr>\n",
       "      <th>20</th>\n",
       "      <td>lemons, zest of</td>\n",
       "      <td>6</td>\n",
       "    </tr>\n",
       "    <tr>\n",
       "      <th>21</th>\n",
       "      <td>lemon verbena leaves</td>\n",
       "      <td>5</td>\n",
       "    </tr>\n",
       "    <tr>\n",
       "      <th>22</th>\n",
       "      <td>lemons, juice and zest of</td>\n",
       "      <td>5</td>\n",
       "    </tr>\n",
       "    <tr>\n",
       "      <th>23</th>\n",
       "      <td>carbonated lemon-lime beverage</td>\n",
       "      <td>5</td>\n",
       "    </tr>\n",
       "    <tr>\n",
       "      <th>24</th>\n",
       "      <td>frozen lemonade concentrate</td>\n",
       "      <td>4</td>\n",
       "    </tr>\n",
       "    <tr>\n",
       "      <th>25</th>\n",
       "      <td>lemons, rind of</td>\n",
       "      <td>4</td>\n",
       "    </tr>\n",
       "    <tr>\n",
       "      <th>26</th>\n",
       "      <td>lemon juice concentrate</td>\n",
       "      <td>3</td>\n",
       "    </tr>\n",
       "    <tr>\n",
       "      <th>27</th>\n",
       "      <td>preserved lemons</td>\n",
       "      <td>3</td>\n",
       "    </tr>\n",
       "    <tr>\n",
       "      <th>28</th>\n",
       "      <td>lemon balm</td>\n",
       "      <td>3</td>\n",
       "    </tr>\n",
       "    <tr>\n",
       "      <th>29</th>\n",
       "      <td>lemon slices</td>\n",
       "      <td>3</td>\n",
       "    </tr>\n",
       "    <tr>\n",
       "      <th>30</th>\n",
       "      <td>bottled lemon juice</td>\n",
       "      <td>3</td>\n",
       "    </tr>\n",
       "    <tr>\n",
       "      <th>31</th>\n",
       "      <td>dried lemon peel</td>\n",
       "      <td>2</td>\n",
       "    </tr>\n",
       "    <tr>\n",
       "      <th>32</th>\n",
       "      <td>lemon vinaigrette</td>\n",
       "      <td>2</td>\n",
       "    </tr>\n",
       "    <tr>\n",
       "      <th>33</th>\n",
       "      <td>instant lemon pudding mix</td>\n",
       "      <td>2</td>\n",
       "    </tr>\n",
       "    <tr>\n",
       "      <th>34</th>\n",
       "      <td>lemon cucumbers</td>\n",
       "      <td>2</td>\n",
       "    </tr>\n",
       "    <tr>\n",
       "      <th>35</th>\n",
       "      <td>lemon thyme leaves</td>\n",
       "      <td>2</td>\n",
       "    </tr>\n",
       "    <tr>\n",
       "      <th>36</th>\n",
       "      <td>lemon pie filling</td>\n",
       "      <td>2</td>\n",
       "    </tr>\n",
       "    <tr>\n",
       "      <th>37</th>\n",
       "      <td>lemon, juice and rind of</td>\n",
       "      <td>2</td>\n",
       "    </tr>\n",
       "    <tr>\n",
       "      <th>38</th>\n",
       "      <td>lemon thyme</td>\n",
       "      <td>2</td>\n",
       "    </tr>\n",
       "    <tr>\n",
       "      <th>39</th>\n",
       "      <td>lemon extract</td>\n",
       "      <td>1</td>\n",
       "    </tr>\n",
       "    <tr>\n",
       "      <th>40</th>\n",
       "      <td>lemon pudding mix</td>\n",
       "      <td>1</td>\n",
       "    </tr>\n",
       "    <tr>\n",
       "      <th>41</th>\n",
       "      <td>lemonade</td>\n",
       "      <td>1</td>\n",
       "    </tr>\n",
       "    <tr>\n",
       "      <th>42</th>\n",
       "      <td>dried lemongrass</td>\n",
       "      <td>1</td>\n",
       "    </tr>\n",
       "    <tr>\n",
       "      <th>43</th>\n",
       "      <td>meyer lemon</td>\n",
       "      <td>1</td>\n",
       "    </tr>\n",
       "    <tr>\n",
       "      <th>44</th>\n",
       "      <td>lemon and herb tartar sauce</td>\n",
       "      <td>1</td>\n",
       "    </tr>\n",
       "    <tr>\n",
       "      <th>45</th>\n",
       "      <td>lemon &amp; herb seasoning</td>\n",
       "      <td>1</td>\n",
       "    </tr>\n",
       "    <tr>\n",
       "      <th>46</th>\n",
       "      <td>lemon cucumber</td>\n",
       "      <td>1</td>\n",
       "    </tr>\n",
       "    <tr>\n",
       "      <th>47</th>\n",
       "      <td>frozen lemonade</td>\n",
       "      <td>1</td>\n",
       "    </tr>\n",
       "    <tr>\n",
       "      <th>48</th>\n",
       "      <td>diet lemon-lime soda</td>\n",
       "      <td>1</td>\n",
       "    </tr>\n",
       "    <tr>\n",
       "      <th>49</th>\n",
       "      <td>lemon balm leaves</td>\n",
       "      <td>1</td>\n",
       "    </tr>\n",
       "    <tr>\n",
       "      <th>50</th>\n",
       "      <td>jell-o instant lemon pudding</td>\n",
       "      <td>1</td>\n",
       "    </tr>\n",
       "    <tr>\n",
       "      <th>51</th>\n",
       "      <td>lemon low fat yogurt</td>\n",
       "      <td>1</td>\n",
       "    </tr>\n",
       "    <tr>\n",
       "      <th>52</th>\n",
       "      <td>frozen concentrated lemonade</td>\n",
       "      <td>1</td>\n",
       "    </tr>\n",
       "    <tr>\n",
       "      <th>53</th>\n",
       "      <td>dried lemon grass</td>\n",
       "      <td>1</td>\n",
       "    </tr>\n",
       "    <tr>\n",
       "      <th>54</th>\n",
       "      <td>lemon verbena</td>\n",
       "      <td>1</td>\n",
       "    </tr>\n",
       "    <tr>\n",
       "      <th>55</th>\n",
       "      <td>salt-free lemon &amp; herb seasoning</td>\n",
       "      <td>1</td>\n",
       "    </tr>\n",
       "    <tr>\n",
       "      <th>56</th>\n",
       "      <td>lemon flavor instant pudding and pie filling</td>\n",
       "      <td>1</td>\n",
       "    </tr>\n",
       "    <tr>\n",
       "      <th>57</th>\n",
       "      <td>frozen pink lemonade concentrate</td>\n",
       "      <td>1</td>\n",
       "    </tr>\n",
       "    <tr>\n",
       "      <th>58</th>\n",
       "      <td>lemon twist</td>\n",
       "      <td>1</td>\n",
       "    </tr>\n",
       "  </tbody>\n",
       "</table>\n",
       "</div>"
      ],
      "text/plain": [
       "                                             key  value\n",
       "0                                    lemon juice   2991\n",
       "1                                          lemon    436\n",
       "2                                lemon, juice of    300\n",
       "3                                     lemon zest    148\n",
       "4                                 lemon, zest of     71\n",
       "5                                         lemons     61\n",
       "6                               lemons, juice of     57\n",
       "7                                     lemon rind     55\n",
       "8                           lemon jell-o gelatin     50\n",
       "9                                     lemon peel     47\n",
       "10                      lemon, juice and zest of     34\n",
       "11                                   lemon wedge     29\n",
       "12                                    lemongrass     27\n",
       "13                                lemon, rind of     22\n",
       "14                                 lemon gelatin     17\n",
       "15                                  lemon yogurt     11\n",
       "16                                  lemon wedges     10\n",
       "17                                   lemon slice      9\n",
       "18                         instant lemon pudding      7\n",
       "19                               preserved lemon      7\n",
       "20                               lemons, zest of      6\n",
       "21                          lemon verbena leaves      5\n",
       "22                     lemons, juice and zest of      5\n",
       "23                carbonated lemon-lime beverage      5\n",
       "24                   frozen lemonade concentrate      4\n",
       "25                               lemons, rind of      4\n",
       "26                       lemon juice concentrate      3\n",
       "27                              preserved lemons      3\n",
       "28                                    lemon balm      3\n",
       "29                                  lemon slices      3\n",
       "30                           bottled lemon juice      3\n",
       "31                              dried lemon peel      2\n",
       "32                             lemon vinaigrette      2\n",
       "33                     instant lemon pudding mix      2\n",
       "34                               lemon cucumbers      2\n",
       "35                            lemon thyme leaves      2\n",
       "36                             lemon pie filling      2\n",
       "37                      lemon, juice and rind of      2\n",
       "38                                   lemon thyme      2\n",
       "39                                 lemon extract      1\n",
       "40                             lemon pudding mix      1\n",
       "41                                      lemonade      1\n",
       "42                              dried lemongrass      1\n",
       "43                                   meyer lemon      1\n",
       "44                   lemon and herb tartar sauce      1\n",
       "45                        lemon & herb seasoning      1\n",
       "46                                lemon cucumber      1\n",
       "47                               frozen lemonade      1\n",
       "48                          diet lemon-lime soda      1\n",
       "49                             lemon balm leaves      1\n",
       "50                  jell-o instant lemon pudding      1\n",
       "51                          lemon low fat yogurt      1\n",
       "52                  frozen concentrated lemonade      1\n",
       "53                             dried lemon grass      1\n",
       "54                                 lemon verbena      1\n",
       "55              salt-free lemon & herb seasoning      1\n",
       "56  lemon flavor instant pudding and pie filling      1\n",
       "57              frozen pink lemonade concentrate      1\n",
       "58                                   lemon twist      1"
      ]
     },
     "execution_count": 60,
     "metadata": {},
     "output_type": "execute_result"
    }
   ],
   "source": [
    "ingredients_with_keywords = get_all_diff_ingredients_with_keyword_df('lemon',df_19)\n",
    "\n",
    "elem_and_count_dict = elem_counter_list(ingredients_with_keywords)\n",
    "\n",
    "elem_and_count_df = pd.DataFrame(list(elem_and_count_dict.items()), columns=['key', 'value'])\n",
    "elem_and_count_df.head(100)"
   ]
  },
  {
   "cell_type": "code",
   "execution_count": null,
   "id": "53599689-281d-4de7-95c4-b59f0c73a6c9",
   "metadata": {},
   "outputs": [],
   "source": []
  }
 ],
 "metadata": {
  "kernelspec": {
   "display_name": "Python 3 (ipykernel)",
   "language": "python",
   "name": "python3"
  },
  "language_info": {
   "codemirror_mode": {
    "name": "ipython",
    "version": 3
   },
   "file_extension": ".py",
   "mimetype": "text/x-python",
   "name": "python",
   "nbconvert_exporter": "python",
   "pygments_lexer": "ipython3",
   "version": "3.10.16"
  }
 },
 "nbformat": 4,
 "nbformat_minor": 5
}
